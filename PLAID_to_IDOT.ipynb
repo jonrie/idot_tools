{
 "cells": [
  {
   "cell_type": "markdown",
   "metadata": {
    "id": "DJI-4rHFscsY"
   },
   "source": [
    "# PLAID to I.DOT notebook"
   ]
  },
  {
   "cell_type": "code",
   "execution_count": 369,
   "metadata": {
    "colab": {
     "base_uri": "https://localhost:8080/",
     "height": 74
    },
    "executionInfo": {
     "elapsed": 11192,
     "status": "ok",
     "timestamp": 1678197844051,
     "user": {
      "displayName": "Jonne Rietdijk",
      "userId": "14743434130742158701"
     },
     "user_tz": -60
    },
    "id": "OfRKtWTV4EKQ",
    "outputId": "ffd72a97-2b26-4d83-8a10-7851eaceabf0"
   },
   "outputs": [],
   "source": [
    "# load modules and select input PLAID file\n",
    "import pandas as pd\n",
    "pd.options.mode.chained_assignment = None\n",
    "import numpy as np\n",
    "import glob\n",
    "import os\n",
    "import math\n",
    "import re\n",
    "import datetime\n",
    "import string\n",
    "from ast import literal_eval\n",
    "\n",
    "from ipynb.fs.full.my_functions import *\n",
    "\n",
    "import warnings"
   ]
  },
  {
   "cell_type": "markdown",
   "metadata": {},
   "source": [
    "# select input files"
   ]
  },
  {
   "cell_type": "code",
   "execution_count": 370,
   "metadata": {
    "colab": {
     "base_uri": "https://localhost:8080/",
     "height": 74
    },
    "executionInfo": {
     "elapsed": 11192,
     "status": "ok",
     "timestamp": 1678197844051,
     "user": {
      "displayName": "Jonne Rietdijk",
      "userId": "14743434130742158701"
     },
     "user_tz": -60
    },
    "id": "OfRKtWTV4EKQ",
    "outputId": "ffd72a97-2b26-4d83-8a10-7851eaceabf0"
   },
   "outputs": [],
   "source": [
    "PLAID_layout  = \"input/bf-moa-live-60-PLAID.csv\"\n",
    "compound_info = \"input/compound_info.csv\""
   ]
  },
  {
   "cell_type": "code",
   "execution_count": 371,
   "metadata": {},
   "outputs": [],
   "source": [
    "# merge multiple files\n",
    "#...\n",
    "#"
   ]
  },
  {
   "cell_type": "code",
   "execution_count": 372,
   "metadata": {},
   "outputs": [],
   "source": [
    "# add DMSO to all empty wells\n",
    "# ....\n"
   ]
  },
  {
   "cell_type": "code",
   "execution_count": 373,
   "metadata": {
    "cellView": "form",
    "executionInfo": {
     "elapsed": 344,
     "status": "ok",
     "timestamp": 1678197846419,
     "user": {
      "displayName": "Jonne Rietdijk",
      "userId": "14743434130742158701"
     },
     "user_tz": -60
    },
    "id": "8A8gVAB76hiM"
   },
   "outputs": [],
   "source": [
    "user_name             = 'Jonne' #@param [\"Jonne\",\"Amelie\",\"Christa\",\"Malin\",\"Martin\",\"Polina\",\"Axel\",\"David\",\"Ovidiu\"]\n",
    "protocol_name         = \"bf-moa-live\" #@param {type:\"string\"} # Name of the protocol\n",
    "\n",
    "# more details: https://dispendix.com/idot-dispensing-plates/\n",
    "sourceplate_type      = \"S.100 Plate\" #@param [\"S.100 Plate\",\"S.60 Plate\",\"S.200 Plate\"] \n",
    "target_plate_type     = 'MWP 384' #@param [\"MWP 96\",\"MWP 384\"]\n",
    "\n",
    "working_volume_ul     = 40 #@param {type:\"number\"}\n",
    "\n",
    "x = datetime.datetime.now()\n",
    "\n",
    "software      = \"1.7.2021.1019\" # I-DOT Assay Studio software version\n",
    "user_name     = user_name # User name/ID\n",
    "date          = (x.strftime(\"%x\")) \n",
    "time          = (x.strftime(\"%X\")) \n",
    "\n",
    "\n",
    "max_volume       = 8.0E-5 # Source plate max volume (80000nL = 80uL= 8.0E-5 L)\n",
    "waste            = \"Waste Tube\" # Position of the waste well on the target carrier\n",
    "\n",
    "dispense_to_waste          = True # Enable/disable priming before dispensing (=True/False) \n",
    "dispense_to_waste_cycles   = 2    # Number of priming cycles for each source well (=1/2/3)\n",
    "dispense_to_waste_volume   = 5e-8 # Dispensing volume for each priming cycle (=5e-8/.../1e-6) \n",
    "use_deionisation           = True\n",
    "optimization_level         = \"ReorderAndParallel\" # Used protocol optimization process to reduce total dispensing time. Possible values are NoOptimization / Reorder / ReorderAndParalell\n",
    "waste_error_handling_level = \"Ask\" # Checkpoint for the dispensing run if no droplets are detected during priming. Possible values are Ask / Abort / Continue \n",
    "save_liquids               = \"Ask\" # Checkpoint for Liquid Library handling. Possible options are Ask / Never\n"
   ]
  },
  {
   "cell_type": "markdown",
   "metadata": {
    "cellView": "form",
    "colab": {
     "base_uri": "https://localhost:8080/",
     "height": 455
    },
    "executionInfo": {
     "elapsed": 7,
     "status": "ok",
     "timestamp": 1678197848241,
     "user": {
      "displayName": "Jonne Rietdijk",
      "userId": "14743434130742158701"
     },
     "user_tz": -60
    },
    "id": "JH4WVvXME7zz",
    "outputId": "9c765b72-5eb2-49dd-ff71-6e8ce57691e8"
   },
   "source": [
    "# show compounds, doses and replicates"
   ]
  },
  {
   "cell_type": "code",
   "execution_count": 374,
   "metadata": {
    "cellView": "form",
    "colab": {
     "base_uri": "https://localhost:8080/",
     "height": 455
    },
    "executionInfo": {
     "elapsed": 7,
     "status": "ok",
     "timestamp": 1678197848241,
     "user": {
      "displayName": "Jonne Rietdijk",
      "userId": "14743434130742158701"
     },
     "user_tz": -60
    },
    "id": "JH4WVvXME7zz",
    "outputId": "9c765b72-5eb2-49dd-ff71-6e8ce57691e8"
   },
   "outputs": [
    {
     "data": {
      "text/html": [
       "<div>\n",
       "<style scoped>\n",
       "    .dataframe tbody tr th:only-of-type {\n",
       "        vertical-align: middle;\n",
       "    }\n",
       "\n",
       "    .dataframe tbody tr th {\n",
       "        vertical-align: top;\n",
       "    }\n",
       "\n",
       "    .dataframe thead th {\n",
       "        text-align: right;\n",
       "    }\n",
       "</style>\n",
       "<table border=\"1\" class=\"dataframe\">\n",
       "  <thead>\n",
       "    <tr style=\"text-align: right;\">\n",
       "      <th></th>\n",
       "      <th></th>\n",
       "      <th>counts</th>\n",
       "    </tr>\n",
       "    <tr>\n",
       "      <th>cmpdname</th>\n",
       "      <th>CONCuM</th>\n",
       "      <th></th>\n",
       "    </tr>\n",
       "  </thead>\n",
       "  <tbody>\n",
       "    <tr>\n",
       "      <th>DMSO</th>\n",
       "      <th>0</th>\n",
       "      <td>396</td>\n",
       "    </tr>\n",
       "    <tr>\n",
       "      <th>c1</th>\n",
       "      <th>10</th>\n",
       "      <td>12</td>\n",
       "    </tr>\n",
       "  </tbody>\n",
       "</table>\n",
       "</div>"
      ],
      "text/plain": [
       "                 counts\n",
       "cmpdname CONCuM        \n",
       "DMSO     0          396\n",
       "c1       10          12"
      ]
     },
     "execution_count": 374,
     "metadata": {},
     "output_type": "execute_result"
    }
   ],
   "source": [
    "df = pd.read_csv(PLAID_layout, dtype={'cmpdname': object} )\n",
    "\n",
    "replicates = df.groupby([\"cmpdname\",\"CONCuM\"]).size().to_frame('counts')\n",
    "replicates.head(2)"
   ]
  },
  {
   "cell_type": "markdown",
   "metadata": {},
   "source": [
    "# Optional preprocessing steps"
   ]
  },
  {
   "cell_type": "markdown",
   "metadata": {
    "colab": {
     "base_uri": "https://localhost:8080/",
     "height": 424
    },
    "executionInfo": {
     "elapsed": 6,
     "status": "ok",
     "timestamp": 1678197850167,
     "user": {
      "displayName": "Jonne Rietdijk",
      "userId": "14743434130742158701"
     },
     "user_tz": -60
    },
    "id": "uMGAP7jPnTKo",
    "outputId": "39870db5-e6a9-47f9-8883-8da6c4e0fee7",
    "tags": []
   },
   "source": [
    "### Change dose names in PLAID? (optional)"
   ]
  },
  {
   "cell_type": "code",
   "execution_count": 375,
   "metadata": {
    "colab": {
     "base_uri": "https://localhost:8080/",
     "height": 424
    },
    "executionInfo": {
     "elapsed": 6,
     "status": "ok",
     "timestamp": 1678197850167,
     "user": {
      "displayName": "Jonne Rietdijk",
      "userId": "14743434130742158701"
     },
     "user_tz": -60
    },
    "id": "uMGAP7jPnTKo",
    "outputId": "39870db5-e6a9-47f9-8883-8da6c4e0fee7"
   },
   "outputs": [],
   "source": [
    "change_concnames_PLAID         = False #@param {type:\"boolean\"}\n",
    "\n",
    "if change_concnames_PLAID == True:\n",
    "  #newconc = {\"a\": 0.001, \"b\": 0.01, \"c\": 0.1, \"d\": 1, \"e\": 10} # here you assign the new names of choice! \n",
    "  newconc = {\"a\": \"[0.01,1]\", \"b\":\"[0.1,1]\", \"c\":\"[1,1]\", \"d\":\"[10,1]\"}\n",
    "  df = df.replace({\"CONCuM\": newconc})"
   ]
  },
  {
   "cell_type": "markdown",
   "metadata": {
    "colab": {
     "base_uri": "https://localhost:8080/",
     "height": 424
    },
    "executionInfo": {
     "elapsed": 5,
     "status": "ok",
     "timestamp": 1678197851833,
     "user": {
      "displayName": "Jonne Rietdijk",
      "userId": "14743434130742158701"
     },
     "user_tz": -60
    },
    "id": "ddxNIKVRLElV",
    "outputId": "212255b1-ced7-419f-a133-1a768e46cfb6",
    "tags": []
   },
   "source": [
    "### Change compound names in PLAID? (optional)"
   ]
  },
  {
   "cell_type": "code",
   "execution_count": 376,
   "metadata": {
    "colab": {
     "base_uri": "https://localhost:8080/",
     "height": 424
    },
    "executionInfo": {
     "elapsed": 5,
     "status": "ok",
     "timestamp": 1678197851833,
     "user": {
      "displayName": "Jonne Rietdijk",
      "userId": "14743434130742158701"
     },
     "user_tz": -60
    },
    "id": "ddxNIKVRLElV",
    "outputId": "212255b1-ced7-419f-a133-1a768e46cfb6"
   },
   "outputs": [],
   "source": [
    "change_cmpdnames_PLAID         = False #@param {type:\"boolean\"}\n",
    "\n",
    "if change_cmpdnames_PLAID == True:\n",
    "      print(\"yes\")\n",
    "      newcmpd = {\"1\":\"['Nir','Car']\"}\n",
    "      df = df.replace({\"cmpdname\": newcmpd})\n",
    "        \n",
    "replicates = df.groupby([\"plateID\",\"well\"])[\"cmpdname\"].apply(lambda x: ','.join(x)).to_frame(\"cmpdname\") # account for combinations!\n",
    "replicates = replicates.reset_index()\n",
    "replicates = replicates.groupby([\"cmpdname\"]).sum().reset_index()                  \n",
    "replicates = replicates[[\"cmpdname\"]].value_counts().to_frame('counts')\n",
    "#replicates.head(5)"
   ]
  },
  {
   "cell_type": "markdown",
   "metadata": {
    "tags": []
   },
   "source": [
    "### Dissolve combinations (optional)"
   ]
  },
  {
   "cell_type": "code",
   "execution_count": 377,
   "metadata": {
    "executionInfo": {
     "elapsed": 3,
     "status": "ok",
     "timestamp": 1678197855754,
     "user": {
      "displayName": "Jonne Rietdijk",
      "userId": "14743434130742158701"
     },
     "user_tz": -60
    },
    "id": "n3ypR4HBEBOe"
   },
   "outputs": [],
   "source": [
    "reformat_combinations         = False #@param {type:\"boolean\"}\n",
    "\n",
    "if reformat_combinations == True:\n",
    "\n",
    "  df_combinations = df.copy()\n",
    "  df_combinations = df[df.cmpdname.str.match(r'[\\[*,*\\]]')] # subset only rows with combinations\n",
    "  df_singles      = df[~df.cmpdname.str.match(r'[\\[*,*\\]]')] # subset rows without combinations\n",
    "  print(len(df_combinations), \"combinations\")\n",
    "  print(len(df_singles), \"single compounds\")\n",
    "\n",
    "  #print(df_combinations[\"cmpdname\"].apply(type)) # check datatype\n",
    "  df_combinations[\"cmpdname\"]  = df_combinations[\"cmpdname\"].apply(literal_eval) #convert to list type\n",
    "  df_combinations[\"CONCuM\"]   = df_combinations[\"CONCuM\"].apply(literal_eval)    #convert to list type\n",
    "\n",
    "  df_combinations = df_combinations.explode([\"cmpdname\", \"CONCuM\"])\n",
    "\n",
    "  df = pd.concat([df_combinations, df_singles], ignore_index=True, sort=False)\n",
    "\n",
    "  #df"
   ]
  },
  {
   "cell_type": "markdown",
   "metadata": {
    "cellView": "form",
    "executionInfo": {
     "elapsed": 3,
     "status": "ok",
     "timestamp": 1678197859230,
     "user": {
      "displayName": "Jonne Rietdijk",
      "userId": "14743434130742158701"
     },
     "user_tz": -60
    },
    "id": "sd0JCp35nShn",
    "tags": []
   },
   "source": [
    "### Change units (optional)"
   ]
  },
  {
   "cell_type": "code",
   "execution_count": 378,
   "metadata": {
    "cellView": "form",
    "executionInfo": {
     "elapsed": 3,
     "status": "ok",
     "timestamp": 1678197859230,
     "user": {
      "displayName": "Jonne Rietdijk",
      "userId": "14743434130742158701"
     },
     "user_tz": -60
    },
    "id": "sd0JCp35nShn"
   },
   "outputs": [],
   "source": [
    "# default is uM - here we will recalculate if you have put in another format\n",
    "\n",
    "unit                  = \"uM\" #@param [\"pM\",\"nM\",\"uM\",\"mM\",\"dilution\"]\n",
    "\n",
    "# 1 Micromolar [µM] = 0.001 Millimolar [mM]\n",
    "# 1 Micromolar [µM] = 1000 Nanomolar [nM]\n",
    "# 1 Micromolar [µM] = 1.0×106 Picomolar [pM] (1000000)\n",
    "\n",
    "\n",
    "df['CONCuM'] = pd.to_numeric(df['CONCuM'], errors='coerce')\n",
    "\n",
    "if unit == \"uM\":\n",
    "  None\n",
    "elif unit == \"pM\":\n",
    "  df['CONCuM'] =  df[\"CONCuM\"]/ 1000000\n",
    "elif unit == \"nM\":\n",
    "  df['CONCuM'] = df[\"CONCuM\"]/ 1000\n",
    "elif unit == \"mM\":\n",
    "  df['CONCuM'] = df[\"CONCuM\"] * 1000\n",
    "elif unit == \"dilution\":\n",
    "  df['CONCuM'] = df[\"CONCuM\"] * 1000\n"
   ]
  },
  {
   "cell_type": "markdown",
   "metadata": {},
   "source": [
    "# assign compound details"
   ]
  },
  {
   "cell_type": "code",
   "execution_count": 379,
   "metadata": {},
   "outputs": [
    {
     "data": {
      "text/html": [
       "<div>\n",
       "<style scoped>\n",
       "    .dataframe tbody tr th:only-of-type {\n",
       "        vertical-align: middle;\n",
       "    }\n",
       "\n",
       "    .dataframe tbody tr th {\n",
       "        vertical-align: top;\n",
       "    }\n",
       "\n",
       "    .dataframe thead th {\n",
       "        text-align: right;\n",
       "    }\n",
       "</style>\n",
       "<table border=\"1\" class=\"dataframe\">\n",
       "  <thead>\n",
       "    <tr style=\"text-align: right;\">\n",
       "      <th></th>\n",
       "      <th>highest_stock_mM</th>\n",
       "      <th>solvent</th>\n",
       "      <th>source_plate</th>\n",
       "      <th>source_well</th>\n",
       "      <th>cmpdname</th>\n",
       "    </tr>\n",
       "  </thead>\n",
       "  <tbody>\n",
       "    <tr>\n",
       "      <th>0</th>\n",
       "      <td>10.0</td>\n",
       "      <td>DMSO</td>\n",
       "      <td>source10mM</td>\n",
       "      <td>A02</td>\n",
       "      <td>c1</td>\n",
       "    </tr>\n",
       "    <tr>\n",
       "      <th>1</th>\n",
       "      <td>10.0</td>\n",
       "      <td>DMSO</td>\n",
       "      <td>source10mM</td>\n",
       "      <td>A04</td>\n",
       "      <td>c2</td>\n",
       "    </tr>\n",
       "  </tbody>\n",
       "</table>\n",
       "</div>"
      ],
      "text/plain": [
       "   highest_stock_mM solvent source_plate source_well cmpdname\n",
       "0              10.0    DMSO   source10mM         A02       c1\n",
       "1              10.0    DMSO   source10mM         A04       c2"
      ]
     },
     "execution_count": 379,
     "metadata": {},
     "output_type": "execute_result"
    }
   ],
   "source": [
    "compound = pd.read_csv(compound_info, dtype={'cmpdname': object}, usecols=[\"cmpdname\",\"solvent\",\"source_plate\",\"source_well\",\"source_plate\",\"highest_stock_mM\"])\n",
    "compound.head(2)"
   ]
  },
  {
   "cell_type": "code",
   "execution_count": 380,
   "metadata": {},
   "outputs": [
    {
     "name": "stdout",
     "output_type": "stream",
     "text": [
      "all mcompounds are matched\n"
     ]
    }
   ],
   "source": [
    "merged_df = pd.merge(df, compound, on='cmpdname', how='outer', indicator=True)\n",
    "    \n",
    "# Checking for unmatched rows\n",
    "unmatched_rows = merged_df[merged_df['_merge'] != 'both']\n",
    "\n",
    "if not unmatched_rows.empty:\n",
    "    print('Warning: there are unmatched rows in the merged DataFrame')\n",
    "else:\n",
    "    print(\"all mcompounds are matched\")"
   ]
  },
  {
   "cell_type": "code",
   "execution_count": 381,
   "metadata": {},
   "outputs": [
    {
     "data": {
      "text/html": [
       "<div>\n",
       "<style scoped>\n",
       "    .dataframe tbody tr th:only-of-type {\n",
       "        vertical-align: middle;\n",
       "    }\n",
       "\n",
       "    .dataframe tbody tr th {\n",
       "        vertical-align: top;\n",
       "    }\n",
       "\n",
       "    .dataframe thead th {\n",
       "        text-align: right;\n",
       "    }\n",
       "</style>\n",
       "<table border=\"1\" class=\"dataframe\">\n",
       "  <thead>\n",
       "    <tr style=\"text-align: right;\">\n",
       "      <th></th>\n",
       "      <th>plateID</th>\n",
       "      <th>well</th>\n",
       "      <th>r</th>\n",
       "      <th>c</th>\n",
       "      <th>cmpdname</th>\n",
       "      <th>CONCuM</th>\n",
       "      <th>cmpdnum</th>\n",
       "      <th>highest_stock_mM</th>\n",
       "      <th>solvent</th>\n",
       "      <th>source_plate</th>\n",
       "      <th>source_well</th>\n",
       "      <th>_merge</th>\n",
       "    </tr>\n",
       "  </thead>\n",
       "  <tbody>\n",
       "    <tr>\n",
       "      <th>0</th>\n",
       "      <td>L1</td>\n",
       "      <td>B02</td>\n",
       "      <td>B</td>\n",
       "      <td>2</td>\n",
       "      <td>c1</td>\n",
       "      <td>10</td>\n",
       "      <td>c1_10</td>\n",
       "      <td>10.0</td>\n",
       "      <td>DMSO</td>\n",
       "      <td>source10mM</td>\n",
       "      <td>A02</td>\n",
       "      <td>both</td>\n",
       "    </tr>\n",
       "    <tr>\n",
       "      <th>1</th>\n",
       "      <td>L1</td>\n",
       "      <td>I18</td>\n",
       "      <td>I</td>\n",
       "      <td>18</td>\n",
       "      <td>c1</td>\n",
       "      <td>10</td>\n",
       "      <td>c1_10</td>\n",
       "      <td>10.0</td>\n",
       "      <td>DMSO</td>\n",
       "      <td>source10mM</td>\n",
       "      <td>A02</td>\n",
       "      <td>both</td>\n",
       "    </tr>\n",
       "  </tbody>\n",
       "</table>\n",
       "</div>"
      ],
      "text/plain": [
       "  plateID well  r   c cmpdname  CONCuM cmpdnum  highest_stock_mM solvent  \\\n",
       "0      L1  B02  B   2       c1      10   c1_10              10.0    DMSO   \n",
       "1      L1  I18  I  18       c1      10   c1_10              10.0    DMSO   \n",
       "\n",
       "  source_plate source_well _merge  \n",
       "0   source10mM         A02   both  \n",
       "1   source10mM         A02   both  "
      ]
     },
     "execution_count": 381,
     "metadata": {},
     "output_type": "execute_result"
    }
   ],
   "source": [
    "df = merged_df.copy()\n",
    "df.head(2)"
   ]
  },
  {
   "cell_type": "markdown",
   "metadata": {},
   "source": [
    "# Assign treatment groups"
   ]
  },
  {
   "cell_type": "code",
   "execution_count": 382,
   "metadata": {
    "colab": {
     "base_uri": "https://localhost:8080/",
     "height": 143
    },
    "executionInfo": {
     "elapsed": 4,
     "status": "ok",
     "timestamp": 1678197860093,
     "user": {
      "displayName": "Jonne Rietdijk",
      "userId": "14743434130742158701"
     },
     "user_tz": -60
    },
    "id": "lCqSzUmCHYBs",
    "outputId": "9b2b3a25-b329-4556-9025-f9ea9da6f0d9"
   },
   "outputs": [
    {
     "data": {
      "text/html": [
       "<div>\n",
       "<style scoped>\n",
       "    .dataframe tbody tr th:only-of-type {\n",
       "        vertical-align: middle;\n",
       "    }\n",
       "\n",
       "    .dataframe tbody tr th {\n",
       "        vertical-align: top;\n",
       "    }\n",
       "\n",
       "    .dataframe thead th {\n",
       "        text-align: right;\n",
       "    }\n",
       "</style>\n",
       "<table border=\"1\" class=\"dataframe\">\n",
       "  <thead>\n",
       "    <tr style=\"text-align: right;\">\n",
       "      <th></th>\n",
       "      <th>number of wells</th>\n",
       "    </tr>\n",
       "  </thead>\n",
       "  <tbody>\n",
       "    <tr>\n",
       "      <th>trt</th>\n",
       "      <td>648</td>\n",
       "    </tr>\n",
       "    <tr>\n",
       "      <th>DMSO</th>\n",
       "      <td>396</td>\n",
       "    </tr>\n",
       "  </tbody>\n",
       "</table>\n",
       "</div>"
      ],
      "text/plain": [
       "      number of wells\n",
       "trt               648\n",
       "DMSO              396"
      ]
     },
     "execution_count": 382,
     "metadata": {},
     "output_type": "execute_result"
    }
   ],
   "source": [
    "# add treatment group based on controls, treatments, blanks and DMSO wells\n",
    "\n",
    "cmpdname                   = np.unique(df[['cmpdname']].values).tolist()\n",
    "catdict                    = treatmentdict(cmpdname)\n",
    "df[\"treatment_type\"]       = df[\"cmpdname\"].map(catdict)\n",
    "df[\"treatment_type\"].value_counts().to_frame('number of wells')"
   ]
  },
  {
   "cell_type": "code",
   "execution_count": 383,
   "metadata": {},
   "outputs": [],
   "source": [
    "# mask compiund that do not have water\n",
    "df = df[df[\"solvent\"] != \"water\"]\n",
    "mask_compounds      = np.unique(df[\"cmpdname\"])\n",
    "mask_compounds_list = mask_compounds.tolist()"
   ]
  },
  {
   "cell_type": "markdown",
   "metadata": {},
   "source": [
    "# Assign highest stock concentration"
   ]
  },
  {
   "cell_type": "code",
   "execution_count": 384,
   "metadata": {
    "cellView": "form",
    "executionInfo": {
     "elapsed": 2,
     "status": "ok",
     "timestamp": 1678197860569,
     "user": {
      "displayName": "Jonne Rietdijk",
      "userId": "14743434130742158701"
     },
     "user_tz": -60
    },
    "id": "zY3XPMom55Y3"
   },
   "outputs": [],
   "source": [
    "# advanced settings: retrieve stock concentrations from compound list\n",
    "manual_list_stocks   = True #@param {type:\"boolean\"}"
   ]
  },
  {
   "cell_type": "code",
   "execution_count": 385,
   "metadata": {
    "cellView": "form",
    "executionInfo": {
     "elapsed": 3,
     "status": "ok",
     "timestamp": 1678197864236,
     "user": {
      "displayName": "Jonne Rietdijk",
      "userId": "14743434130742158701"
     },
     "user_tz": -60
    },
    "id": "i67KqI3DV-Cd"
   },
   "outputs": [],
   "source": [
    "if manual_list_stocks == False:\n",
    "    \n",
    "    ctrl_highest_stock_mM = 10\n",
    "    trt_highest_stock_mM  = 10\n",
    "    \n",
    "    df[\"highest_stock_mM\"] = df[\"treatment_type\"].apply(lambda x: ctrl_highest_stock_mM if x == 'ctrl' else trt_highest_stock_mM if x == 'trt' else None)"
   ]
  },
  {
   "cell_type": "code",
   "execution_count": 386,
   "metadata": {
    "cellView": "form",
    "colab": {
     "base_uri": "https://localhost:8080/",
     "height": 143
    },
    "executionInfo": {
     "elapsed": 6,
     "status": "ok",
     "timestamp": 1678197867726,
     "user": {
      "displayName": "Jonne Rietdijk",
      "userId": "14743434130742158701"
     },
     "user_tz": -60
    },
    "id": "a2Ep6jZBCSXr",
    "outputId": "777725dd-d84b-4b63-b050-2fa92d60f03f"
   },
   "outputs": [
    {
     "data": {
      "text/html": [
       "<div>\n",
       "<style scoped>\n",
       "    .dataframe tbody tr th:only-of-type {\n",
       "        vertical-align: middle;\n",
       "    }\n",
       "\n",
       "    .dataframe tbody tr th {\n",
       "        vertical-align: top;\n",
       "    }\n",
       "\n",
       "    .dataframe thead th {\n",
       "        text-align: right;\n",
       "    }\n",
       "</style>\n",
       "<table border=\"1\" class=\"dataframe\">\n",
       "  <thead>\n",
       "    <tr style=\"text-align: right;\">\n",
       "      <th></th>\n",
       "      <th>counts</th>\n",
       "    </tr>\n",
       "    <tr>\n",
       "      <th>highest_stock_mM</th>\n",
       "      <th></th>\n",
       "    </tr>\n",
       "  </thead>\n",
       "  <tbody>\n",
       "    <tr>\n",
       "      <th>10.0</th>\n",
       "      <td>600</td>\n",
       "    </tr>\n",
       "    <tr>\n",
       "      <th>0.0</th>\n",
       "      <td>396</td>\n",
       "    </tr>\n",
       "  </tbody>\n",
       "</table>\n",
       "</div>"
      ],
      "text/plain": [
       "                  counts\n",
       "highest_stock_mM        \n",
       "10.0                 600\n",
       "0.0                  396"
      ]
     },
     "execution_count": 386,
     "metadata": {},
     "output_type": "execute_result"
    }
   ],
   "source": [
    "if manual_list_stocks == True: \n",
    "\n",
    "    higheststock = pd.read_csv(compound_info, dtype={'cmpdname': object}, usecols=[\"cmpdname\",\"highest_stock_mM\"])\n",
    "    manualstocksdict = dict(zip(higheststock.cmpdname, higheststock.highest_stock_mM))\n",
    "    df[\"highest_stock_mM\"]       = df[\"cmpdname\"].map(manualstocksdict)\n",
    "\n",
    "# check for NaN values \n",
    "if df['highest_stock_mM'].isna().any():\n",
    "    warnings.warn(\"Warning: NaN values found in 'highest_stock_mM'!\")\n",
    "\n",
    "# plot count for each stock concentration\n",
    "df[[\"highest_stock_mM\"]].value_counts().to_frame('counts')"
   ]
  },
  {
   "cell_type": "markdown",
   "metadata": {},
   "source": [
    "# Assign suitable stock concentration to each well"
   ]
  },
  {
   "cell_type": "code",
   "execution_count": 387,
   "metadata": {
    "executionInfo": {
     "elapsed": 4,
     "status": "ok",
     "timestamp": 1678197871222,
     "user": {
      "displayName": "Jonne Rietdijk",
      "userId": "14743434130742158701"
     },
     "user_tz": -60
    },
    "id": "gC33aEucIHq7"
   },
   "outputs": [],
   "source": [
    "max_dmso                   = 1 #@param {type:\"number\"}\n",
    "\n",
    "df[\"stock_conc_mM\"]        = df.apply(lambda x: stockfinder(x['CONCuM'],\n",
    "                                                            x[\"highest_stock_mM\"],\n",
    "                                                            V2_ul= working_volume_ul,\n",
    "                                                            sourceplate_type=sourceplate_type,\n",
    "                                                            dmso_percmax=max_dmso),\n",
    "                                                            axis=1)\n"
   ]
  },
  {
   "cell_type": "code",
   "execution_count": 388,
   "metadata": {},
   "outputs": [
    {
     "data": {
      "text/html": [
       "<div>\n",
       "<style scoped>\n",
       "    .dataframe tbody tr th:only-of-type {\n",
       "        vertical-align: middle;\n",
       "    }\n",
       "\n",
       "    .dataframe tbody tr th {\n",
       "        vertical-align: top;\n",
       "    }\n",
       "\n",
       "    .dataframe thead th {\n",
       "        text-align: right;\n",
       "    }\n",
       "</style>\n",
       "<table border=\"1\" class=\"dataframe\">\n",
       "  <thead>\n",
       "    <tr style=\"text-align: right;\">\n",
       "      <th></th>\n",
       "      <th>counts</th>\n",
       "    </tr>\n",
       "    <tr>\n",
       "      <th>stock_conc_mM</th>\n",
       "      <th></th>\n",
       "    </tr>\n",
       "  </thead>\n",
       "  <tbody>\n",
       "    <tr>\n",
       "      <th>10</th>\n",
       "      <td>600</td>\n",
       "    </tr>\n",
       "    <tr>\n",
       "      <th>0</th>\n",
       "      <td>396</td>\n",
       "    </tr>\n",
       "  </tbody>\n",
       "</table>\n",
       "</div>"
      ],
      "text/plain": [
       "               counts\n",
       "stock_conc_mM        \n",
       "10                600\n",
       "0                 396"
      ]
     },
     "execution_count": 388,
     "metadata": {},
     "output_type": "execute_result"
    }
   ],
   "source": [
    "# list of concentrations by user\n",
    "\n",
    "# plot count for each stock concentration\n",
    "df[[\"stock_conc_mM\"]].value_counts().to_frame('counts')"
   ]
  },
  {
   "cell_type": "markdown",
   "metadata": {},
   "source": [
    "# Calculate volumes for spotting"
   ]
  },
  {
   "cell_type": "code",
   "execution_count": 389,
   "metadata": {
    "colab": {
     "base_uri": "https://localhost:8080/"
    },
    "executionInfo": {
     "elapsed": 335,
     "status": "ok",
     "timestamp": 1678197874189,
     "user": {
      "displayName": "Jonne Rietdijk",
      "userId": "14743434130742158701"
     },
     "user_tz": -60
    },
    "id": "S-dZ80nCIvQ2",
    "outputId": "78417f54-627c-4294-bf2c-91af4902578c"
   },
   "outputs": [
    {
     "name": "stdout",
     "output_type": "stream",
     "text": [
      "highest volume in plate: 0.04 ul\n"
     ]
    }
   ],
   "source": [
    "def uLfromstock(concUM, stock_conc_mM, working_volume_ul):\n",
    "    concUM =  (concUM * working_volume_ul) / stock_conc_mM if stock_conc_mM != 0 else 0\n",
    "    return concUM / 1000\n",
    "\n",
    "df[\"Volume [uL]\"]          = df.apply(lambda x: uLfromstock(x[\"CONCuM\"], x[\"stock_conc_mM\"], working_volume_ul), axis=1)\n",
    "\n",
    "\n",
    "# warn if volume is higher than plate max\n",
    "highestvolume = df[\"Volume [uL]\"].max()\n",
    "print(\"highest volume in plate:\",highestvolume, \"ul\")\n",
    "\n",
    "wellcapacity = int(max_volume *1e06) # wellcapacity based on idot plate\n",
    "if highestvolume > wellcapacity:\n",
    "  raise Exception(\"The volume needed for some wells (highestvolume) exceeds the I.DOT well capacity (80ul), revise your setup !!\") \n",
    "\n",
    "# we also reformat some labels to work with the idot \n",
    "  \n",
    "df[\"Target Well\"]          = df[\"well\"].apply(removeleadingzero)\n",
    "df[\"Liquid Name\"]          = df['cmpdname'] + \"[\" +  df['stock_conc_mM'].astype(str) + \"]\"\n",
    "df.rename(columns          = {'plateID':'Target Plate'}, inplace = True)\n",
    "df                         = df[[\"Target Plate\",\"cmpdname\",\"highest_stock_mM\",\"stock_conc_mM\",\"treatment_type\",\"Target Well\",\"Liquid Name\",\"Volume [uL]\"]]\n"
   ]
  },
  {
   "cell_type": "markdown",
   "metadata": {
    "id": "rT7h3gbjlQSf"
   },
   "source": [
    "# Normalize plates "
   ]
  },
  {
   "cell_type": "code",
   "execution_count": 390,
   "metadata": {
    "cellView": "form",
    "executionInfo": {
     "elapsed": 3,
     "status": "ok",
     "timestamp": 1678197877388,
     "user": {
      "displayName": "Jonne Rietdijk",
      "userId": "14743434130742158701"
     },
     "user_tz": -60
    },
    "id": "fHNUHcSs8r6v"
   },
   "outputs": [],
   "source": [
    "solvent              = \"DMSO\"\n",
    "DMSOstrat            = \"To fixed percentage\" #@param [\"None\", \"To highest in plates\", \"To fixed percentage\"]\n",
    "dmso_fixed_percmax   = 0.2 #@param {type:\"number\"}"
   ]
  },
  {
   "cell_type": "code",
   "execution_count": 391,
   "metadata": {
    "cellView": "form",
    "colab": {
     "base_uri": "https://localhost:8080/"
    },
    "executionInfo": {
     "elapsed": 3,
     "status": "ok",
     "timestamp": 1678197879505,
     "user": {
      "displayName": "Jonne Rietdijk",
      "userId": "14743434130742158701"
     },
     "user_tz": -60
    },
    "id": "RBJgsqKlZHvG",
    "outputId": "c8a5084e-a120-434a-e012-875dd34880ed"
   },
   "outputs": [],
   "source": [
    "mask                   = df['cmpdname'].isin(mask_compounds_list)\n",
    "df_to_normalize        = df[mask] # rows that should not be normalized"
   ]
  },
  {
   "cell_type": "code",
   "execution_count": 392,
   "metadata": {
    "cellView": "form",
    "colab": {
     "base_uri": "https://localhost:8080/"
    },
    "executionInfo": {
     "elapsed": 3,
     "status": "ok",
     "timestamp": 1678197879505,
     "user": {
      "displayName": "Jonne Rietdijk",
      "userId": "14743434130742158701"
     },
     "user_tz": -60
    },
    "id": "RBJgsqKlZHvG",
    "outputId": "c8a5084e-a120-434a-e012-875dd34880ed"
   },
   "outputs": [],
   "source": [
    "grouped_df = df_to_normalize.groupby([\"Target Plate\",\"Target Well\"]).sum().reset_index() # account for combinations!\n",
    "\n",
    "if DMSOstrat == \"None\":\n",
    "  maxDMSO = 0\n",
    "    \n",
    "elif DMSOstrat == \"To highest in plates\":\n",
    "  maxDMSO            = grouped_df.loc[grouped_df[\"Volume [uL]\"].idxmax()]\n",
    "  maxDMSO            = maxDMSO[\"Volume [uL]\"]\n",
    "    \n",
    "elif DMSOstrat == \"To fixed percentage\":\n",
    "  maxDMSOfrac    = dmso_fixed_percmax / 100\n",
    "  maxDMSO        = maxDMSOfrac * working_volume_ul "
   ]
  },
  {
   "cell_type": "code",
   "execution_count": 393,
   "metadata": {},
   "outputs": [
    {
     "data": {
      "text/html": [
       "<div>\n",
       "<style scoped>\n",
       "    .dataframe tbody tr th:only-of-type {\n",
       "        vertical-align: middle;\n",
       "    }\n",
       "\n",
       "    .dataframe tbody tr th {\n",
       "        vertical-align: top;\n",
       "    }\n",
       "\n",
       "    .dataframe thead th {\n",
       "        text-align: right;\n",
       "    }\n",
       "</style>\n",
       "<table border=\"1\" class=\"dataframe\">\n",
       "  <thead>\n",
       "    <tr style=\"text-align: right;\">\n",
       "      <th></th>\n",
       "      <th>Target Plate</th>\n",
       "      <th>Target Well</th>\n",
       "      <th>highest_stock_mM</th>\n",
       "      <th>stock_conc_mM</th>\n",
       "      <th>Volume [uL]</th>\n",
       "    </tr>\n",
       "  </thead>\n",
       "  <tbody>\n",
       "    <tr>\n",
       "      <th>0</th>\n",
       "      <td>L1</td>\n",
       "      <td>A1</td>\n",
       "      <td>0.0</td>\n",
       "      <td>0</td>\n",
       "      <td>0.0</td>\n",
       "    </tr>\n",
       "    <tr>\n",
       "      <th>1</th>\n",
       "      <td>L1</td>\n",
       "      <td>A10</td>\n",
       "      <td>0.0</td>\n",
       "      <td>0</td>\n",
       "      <td>0.0</td>\n",
       "    </tr>\n",
       "    <tr>\n",
       "      <th>2</th>\n",
       "      <td>L1</td>\n",
       "      <td>A11</td>\n",
       "      <td>0.0</td>\n",
       "      <td>0</td>\n",
       "      <td>0.0</td>\n",
       "    </tr>\n",
       "    <tr>\n",
       "      <th>3</th>\n",
       "      <td>L1</td>\n",
       "      <td>A12</td>\n",
       "      <td>0.0</td>\n",
       "      <td>0</td>\n",
       "      <td>0.0</td>\n",
       "    </tr>\n",
       "    <tr>\n",
       "      <th>4</th>\n",
       "      <td>L1</td>\n",
       "      <td>A13</td>\n",
       "      <td>0.0</td>\n",
       "      <td>0</td>\n",
       "      <td>0.0</td>\n",
       "    </tr>\n",
       "    <tr>\n",
       "      <th>...</th>\n",
       "      <td>...</td>\n",
       "      <td>...</td>\n",
       "      <td>...</td>\n",
       "      <td>...</td>\n",
       "      <td>...</td>\n",
       "    </tr>\n",
       "    <tr>\n",
       "      <th>991</th>\n",
       "      <td>L3</td>\n",
       "      <td>P5</td>\n",
       "      <td>0.0</td>\n",
       "      <td>0</td>\n",
       "      <td>0.0</td>\n",
       "    </tr>\n",
       "    <tr>\n",
       "      <th>992</th>\n",
       "      <td>L3</td>\n",
       "      <td>P6</td>\n",
       "      <td>0.0</td>\n",
       "      <td>0</td>\n",
       "      <td>0.0</td>\n",
       "    </tr>\n",
       "    <tr>\n",
       "      <th>993</th>\n",
       "      <td>L3</td>\n",
       "      <td>P7</td>\n",
       "      <td>0.0</td>\n",
       "      <td>0</td>\n",
       "      <td>0.0</td>\n",
       "    </tr>\n",
       "    <tr>\n",
       "      <th>994</th>\n",
       "      <td>L3</td>\n",
       "      <td>P8</td>\n",
       "      <td>0.0</td>\n",
       "      <td>0</td>\n",
       "      <td>0.0</td>\n",
       "    </tr>\n",
       "    <tr>\n",
       "      <th>995</th>\n",
       "      <td>L3</td>\n",
       "      <td>P9</td>\n",
       "      <td>0.0</td>\n",
       "      <td>0</td>\n",
       "      <td>0.0</td>\n",
       "    </tr>\n",
       "  </tbody>\n",
       "</table>\n",
       "<p>996 rows × 5 columns</p>\n",
       "</div>"
      ],
      "text/plain": [
       "    Target Plate Target Well  highest_stock_mM  stock_conc_mM  Volume [uL]\n",
       "0             L1          A1               0.0              0          0.0\n",
       "1             L1         A10               0.0              0          0.0\n",
       "2             L1         A11               0.0              0          0.0\n",
       "3             L1         A12               0.0              0          0.0\n",
       "4             L1         A13               0.0              0          0.0\n",
       "..           ...         ...               ...            ...          ...\n",
       "991           L3          P5               0.0              0          0.0\n",
       "992           L3          P6               0.0              0          0.0\n",
       "993           L3          P7               0.0              0          0.0\n",
       "994           L3          P8               0.0              0          0.0\n",
       "995           L3          P9               0.0              0          0.0\n",
       "\n",
       "[996 rows x 5 columns]"
      ]
     },
     "execution_count": 393,
     "metadata": {},
     "output_type": "execute_result"
    }
   ],
   "source": [
    "grouped_df"
   ]
  },
  {
   "cell_type": "code",
   "execution_count": 394,
   "metadata": {
    "cellView": "form",
    "colab": {
     "base_uri": "https://localhost:8080/"
    },
    "executionInfo": {
     "elapsed": 3,
     "status": "ok",
     "timestamp": 1678197879505,
     "user": {
      "displayName": "Jonne Rietdijk",
      "userId": "14743434130742158701"
     },
     "user_tz": -60
    },
    "id": "RBJgsqKlZHvG",
    "outputId": "c8a5084e-a120-434a-e012-875dd34880ed"
   },
   "outputs": [
    {
     "name": "stdout",
     "output_type": "stream",
     "text": [
      "DMSO in each well will be filled up to: 0.08 ul DMSO, corresponding to:  0.2 % DMSO\n",
      "A total of 996 wells are normalized\n"
     ]
    }
   ],
   "source": [
    "dfDMSO = normalizeDMSO(grouped_df, maxDMSO= dmso_fixed_percmax)\n",
    "\n",
    "print(\"DMSO in each well will be filled up to:\", maxDMSO ,\"ul DMSO, corresponding to: \", maxDMSO/working_volume_ul*100, \"% DMSO\")\n",
    "print(\"A total of\",len(dfDMSO), \"wells are normalized\")"
   ]
  },
  {
   "cell_type": "code",
   "execution_count": 395,
   "metadata": {
    "executionInfo": {
     "elapsed": 2,
     "status": "ok",
     "timestamp": 1678197881783,
     "user": {
      "displayName": "Jonne Rietdijk",
      "userId": "14743434130742158701"
     },
     "user_tz": -60
    },
    "id": "E111fH6oconZ"
   },
   "outputs": [],
   "source": [
    "# Merge target plates\n",
    "\n",
    "frames      = [df] \n",
    "target      = pd.concat(frames)\n",
    "target      = target[target[\"Volume [uL]\"] != 0]"
   ]
  },
  {
   "cell_type": "code",
   "execution_count": 396,
   "metadata": {},
   "outputs": [
    {
     "data": {
      "text/html": [
       "<div>\n",
       "<style scoped>\n",
       "    .dataframe tbody tr th:only-of-type {\n",
       "        vertical-align: middle;\n",
       "    }\n",
       "\n",
       "    .dataframe tbody tr th {\n",
       "        vertical-align: top;\n",
       "    }\n",
       "\n",
       "    .dataframe thead th {\n",
       "        text-align: right;\n",
       "    }\n",
       "</style>\n",
       "<table border=\"1\" class=\"dataframe\">\n",
       "  <thead>\n",
       "    <tr style=\"text-align: right;\">\n",
       "      <th></th>\n",
       "      <th>Target Plate</th>\n",
       "      <th>cmpdname</th>\n",
       "      <th>highest_stock_mM</th>\n",
       "      <th>stock_conc_mM</th>\n",
       "      <th>treatment_type</th>\n",
       "      <th>Target Well</th>\n",
       "      <th>Liquid Name</th>\n",
       "      <th>Volume [uL]</th>\n",
       "    </tr>\n",
       "  </thead>\n",
       "  <tbody>\n",
       "    <tr>\n",
       "      <th>0</th>\n",
       "      <td>L1</td>\n",
       "      <td>c1</td>\n",
       "      <td>10.0</td>\n",
       "      <td>10</td>\n",
       "      <td>trt</td>\n",
       "      <td>B2</td>\n",
       "      <td>c1[10]</td>\n",
       "      <td>0.04</td>\n",
       "    </tr>\n",
       "    <tr>\n",
       "      <th>1</th>\n",
       "      <td>L1</td>\n",
       "      <td>c1</td>\n",
       "      <td>10.0</td>\n",
       "      <td>10</td>\n",
       "      <td>trt</td>\n",
       "      <td>I18</td>\n",
       "      <td>c1[10]</td>\n",
       "      <td>0.04</td>\n",
       "    </tr>\n",
       "    <tr>\n",
       "      <th>2</th>\n",
       "      <td>L1</td>\n",
       "      <td>c1</td>\n",
       "      <td>10.0</td>\n",
       "      <td>10</td>\n",
       "      <td>trt</td>\n",
       "      <td>K14</td>\n",
       "      <td>c1[10]</td>\n",
       "      <td>0.04</td>\n",
       "    </tr>\n",
       "  </tbody>\n",
       "</table>\n",
       "</div>"
      ],
      "text/plain": [
       "  Target Plate cmpdname  highest_stock_mM  stock_conc_mM treatment_type  \\\n",
       "0           L1       c1              10.0             10            trt   \n",
       "1           L1       c1              10.0             10            trt   \n",
       "2           L1       c1              10.0             10            trt   \n",
       "\n",
       "  Target Well Liquid Name  Volume [uL]  \n",
       "0          B2      c1[10]         0.04  \n",
       "1         I18      c1[10]         0.04  \n",
       "2         K14      c1[10]         0.04  "
      ]
     },
     "execution_count": 396,
     "metadata": {},
     "output_type": "execute_result"
    }
   ],
   "source": [
    "target.head(3)"
   ]
  },
  {
   "cell_type": "markdown",
   "metadata": {
    "id": "Id3OiVXYHBuQ"
   },
   "source": [
    "# -- -- -- -- -- -- -- -- -- -- -- -- -- --\n",
    "# Now we will generate source plates\n",
    "# -- -- -- -- -- -- -- -- -- -- -- -- -- --"
   ]
  },
  {
   "cell_type": "code",
   "execution_count": 397,
   "metadata": {
    "cellView": "form",
    "executionInfo": {
     "elapsed": 20,
     "status": "ok",
     "timestamp": 1678197939976,
     "user": {
      "displayName": "Jonne Rietdijk",
      "userId": "14743434130742158701"
     },
     "user_tz": -60
    },
    "id": "yg9Tx9HFUHkE"
   },
   "outputs": [],
   "source": [
    "sourceplate_strat            = 'manual_list' #@param [\"automation\", \"simple\", \"manual_list\"]\n",
    "seperate_batches_8           = False #@param {type:\"boolean\"}"
   ]
  },
  {
   "cell_type": "code",
   "execution_count": 398,
   "metadata": {
    "cellView": "form",
    "executionInfo": {
     "elapsed": 21,
     "status": "ok",
     "timestamp": 1678197939977,
     "user": {
      "displayName": "Jonne Rietdijk",
      "userId": "14743434130742158701"
     },
     "user_tz": -60
    },
    "id": "xCGieeDk7me7"
   },
   "outputs": [],
   "source": [
    "# Assign DMSO source well and generate DMSO source plate\n",
    "\n",
    "dfvolumes             = dfDMSO[\"Volume [uL]\"].to_list()\n",
    "dfDMSO[\"Source Well\"] = assign_DMSOsource(max_volume, dfvolumes)\n",
    "dfDMSO[['Liquid Name','Source Plate']] = 'DMSO', 'DMSOsource'\n",
    "dmsoSOURCE            = dfDMSO[[\"Liquid Name\",\"Source Plate\",\"Source Well\"]].drop_duplicates()"
   ]
  },
  {
   "cell_type": "markdown",
   "metadata": {},
   "source": [
    "### DMSO source"
   ]
  },
  {
   "cell_type": "code",
   "execution_count": 399,
   "metadata": {
    "cellView": "form",
    "colab": {
     "base_uri": "https://localhost:8080/",
     "height": 161
    },
    "executionInfo": {
     "elapsed": 19,
     "status": "ok",
     "timestamp": 1678197939977,
     "user": {
      "displayName": "Jonne Rietdijk",
      "userId": "14743434130742158701"
     },
     "user_tz": -60
    },
    "id": "Ws8qfL6UwXRM",
    "outputId": "56ee4cf0-3390-4790-da57-4f553fccc0fa"
   },
   "outputs": [
    {
     "name": "stdout",
     "output_type": "stream",
     "text": [
      "controls source plate:\n"
     ]
    },
    {
     "data": {
      "text/html": [
       "<div>\n",
       "<style scoped>\n",
       "    .dataframe tbody tr th:only-of-type {\n",
       "        vertical-align: middle;\n",
       "    }\n",
       "\n",
       "    .dataframe tbody tr th {\n",
       "        vertical-align: top;\n",
       "    }\n",
       "\n",
       "    .dataframe thead th {\n",
       "        text-align: right;\n",
       "    }\n",
       "</style>\n",
       "<table border=\"1\" class=\"dataframe\">\n",
       "  <thead>\n",
       "    <tr style=\"text-align: right;\">\n",
       "      <th>Metadata_Column</th>\n",
       "      <th>01</th>\n",
       "    </tr>\n",
       "    <tr>\n",
       "      <th>Metadata_Row</th>\n",
       "      <th></th>\n",
       "    </tr>\n",
       "  </thead>\n",
       "  <tbody>\n",
       "    <tr>\n",
       "      <th>A</th>\n",
       "      <td>DMSO</td>\n",
       "    </tr>\n",
       "    <tr>\n",
       "      <th>B</th>\n",
       "      <td>DMSO</td>\n",
       "    </tr>\n",
       "    <tr>\n",
       "      <th>C</th>\n",
       "      <td>DMSO</td>\n",
       "    </tr>\n",
       "  </tbody>\n",
       "</table>\n",
       "</div>"
      ],
      "text/plain": [
       "Metadata_Column    01\n",
       "Metadata_Row         \n",
       "A                DMSO\n",
       "B                DMSO\n",
       "C                DMSO"
      ]
     },
     "execution_count": 399,
     "metadata": {},
     "output_type": "execute_result"
    }
   ],
   "source": [
    "#@title Visualize and save DMSO Source plates\n",
    "\n",
    "if len(dmsoSOURCE.columns) == 0:\n",
    "  print('no controls source plate was created')\n",
    "else:\n",
    "  DMSOlist = dmsoSOURCE['Source Plate'].unique().tolist()\n",
    "  for plate in DMSOlist:\n",
    "      df = dmsoSOURCE[dmsoSOURCE['Source Plate'] == plate ] \n",
    "      df['Metadata_Column'] =    df['Source Well'].astype(str).str[1:3]\n",
    "      df['Metadata_Row']    =    df['Source Well'].astype(str).str[0]\n",
    "      DMSOpivot = df.pivot(columns=\"Metadata_Column\", index=\"Metadata_Row\", values=\"Liquid Name\") \n",
    "      print(\"controls source plate:\") \n",
    "      DMSOpivot \n",
    "\n",
    "      DMSOpivot.to_csv(\"{}_{}.csv\".format(protocol_name,plate), encoding = 'utf-8-sig') \n",
    "\n",
    "DMSOpivot"
   ]
  },
  {
   "cell_type": "markdown",
   "metadata": {},
   "source": [
    "### treatment source place"
   ]
  },
  {
   "cell_type": "code",
   "execution_count": 400,
   "metadata": {
    "cellView": "form",
    "executionInfo": {
     "elapsed": 14,
     "status": "ok",
     "timestamp": 1678197939978,
     "user": {
      "displayName": "Jonne Rietdijk",
      "userId": "14743434130742158701"
     },
     "user_tz": -60
    },
    "id": "hu2L9lfmSiaV"
   },
   "outputs": [],
   "source": [
    "# Option 1: simple (Generate source plates for control and treatment compounds)\n",
    "\n",
    "# simple placement of compounds from start to end\n",
    "\n",
    "if sourceplate_strat==\"simple\":\n",
    "  trtSOURCE = assignsourcesimple([target])"
   ]
  },
  {
   "cell_type": "code",
   "execution_count": 401,
   "metadata": {
    "cellView": "form",
    "executionInfo": {
     "elapsed": 15,
     "status": "ok",
     "timestamp": 1678197939980,
     "user": {
      "displayName": "Jonne Rietdijk",
      "userId": "14743434130742158701"
     },
     "user_tz": -60
    },
    "id": "qqrOSu-f1rxl"
   },
   "outputs": [],
   "source": [
    "# Option 2: Automation friendly source compound allocations. (generate source plates for treatment and controls)\n",
    "\n",
    "if sourceplate_strat==\"automation\":\n",
    "    trtSOURCE  = assignsource_automated(target,\"trt\")\n",
    "    ctrlSOURCE  = assignsource_automated(target,\"ctrl\")"
   ]
  },
  {
   "cell_type": "code",
   "execution_count": 402,
   "metadata": {
    "cellView": "form",
    "colab": {
     "base_uri": "https://localhost:8080/",
     "height": 17
    },
    "executionInfo": {
     "elapsed": 24,
     "status": "ok",
     "timestamp": 1678197939976,
     "user": {
      "displayName": "Jonne Rietdijk",
      "userId": "14743434130742158701"
     },
     "user_tz": -60
    },
    "id": "TRpDeF_zUPhG",
    "outputId": "248c0722-baaf-42c5-9b7f-11f40a6c0799"
   },
   "outputs": [],
   "source": [
    "# Option 3: Manual source compound allocation (step 1: download compound list)\n",
    "\n",
    "if sourceplate_strat == 'manual_list':\n",
    "    \n",
    "    compounds_df          = target[[\"Liquid Name\", \"cmpdname\",\"stock_conc_mM\"]].drop_duplicates()\n",
    "    compounds_df[['Source Well','Source Plate']] = ''    \n",
    "    compounds_df          = compounds_df[~compounds_df['Liquid Name'].str.contains('DMSO')]\n",
    "    \n",
    "    # append the actual DMSO \n",
    "    dmsoSOURCE            = dmsoSOURCE[[\"Liquid Name\"]]\n",
    "    dmsoSOURCE[[\"cmpdname\",\"stock_conc_mM\",'Source Well','Source Plate']] = ''  \n",
    "    compounds_df          = pd.concat([compounds_df, dmsoSOURCE], ignore_index=True)\n",
    "    \n",
    "    compounds_df.to_csv(\"user_input/manual_source_list.csv\", index=False, encoding = 'utf-8-sig') \n",
    "    #files.download(\"manual_source_list.csv\")"
   ]
  },
  {
   "cell_type": "code",
   "execution_count": 404,
   "metadata": {
    "cellView": "form",
    "executionInfo": {
     "elapsed": 3,
     "status": "ok",
     "timestamp": 1678198453909,
     "user": {
      "displayName": "Jonne Rietdijk",
      "userId": "14743434130742158701"
     },
     "user_tz": -60
    },
    "id": "gc4aNINUUo6K"
   },
   "outputs": [
    {
     "name": "stdout",
     "output_type": "stream",
     "text": [
      "the treatment source plates included: [1]\n"
     ]
    }
   ],
   "source": [
    "#@title Option 3: Manual source compound allocation (step 3: read manual compound list)\n",
    "if sourceplate_strat == 'manual_list':\n",
    "    \n",
    "    manual_source = pd.read_csv(\"user_input/manual_source_list_completed.csv\")\n",
    "    \n",
    "    # check input\n",
    "    if manual_source.duplicated(subset=[\"Source Plate\",\"Source Well\"]).any():\n",
    "        raise Exception('Duplicate wells found in the dataframe.')\n",
    "\n",
    "    elif not all(re.match(r'^[A-H]\\d{2}$', value) for value in manual_source['Source Well']):\n",
    "        raise Exception('Source well does not match the expected format.')\n",
    "        \n",
    "    else:\n",
    "        trtSOURCE     = manual_source[[\"Liquid Name\",\"Source Well\",\"Source Plate\"]]\n",
    "\n",
    "trtlist = trtSOURCE['Source Plate'].unique().tolist()\n",
    "print(\"the treatment source plates included:\", trtlist)"
   ]
  },
  {
   "cell_type": "code",
   "execution_count": 405,
   "metadata": {
    "colab": {
     "base_uri": "https://localhost:8080/",
     "height": 53
    },
    "executionInfo": {
     "elapsed": 5,
     "status": "ok",
     "timestamp": 1678198458107,
     "user": {
      "displayName": "Jonne Rietdijk",
      "userId": "14743434130742158701"
     },
     "user_tz": -60
    },
    "id": "NcybtPZyYX3i",
    "outputId": "90b1fa00-f4df-4286-9a5f-f9d0b7445e5e"
   },
   "outputs": [
    {
     "name": "stdout",
     "output_type": "stream",
     "text": [
      "treatment source plate: 1\n",
      "here a preview of the last source plate:\n"
     ]
    },
    {
     "data": {
      "text/html": [
       "<div>\n",
       "<style scoped>\n",
       "    .dataframe tbody tr th:only-of-type {\n",
       "        vertical-align: middle;\n",
       "    }\n",
       "\n",
       "    .dataframe tbody tr th {\n",
       "        vertical-align: top;\n",
       "    }\n",
       "\n",
       "    .dataframe thead th {\n",
       "        text-align: right;\n",
       "    }\n",
       "</style>\n",
       "<table border=\"1\" class=\"dataframe\">\n",
       "  <thead>\n",
       "    <tr style=\"text-align: right;\">\n",
       "      <th>Metadata_Column</th>\n",
       "      <th>01</th>\n",
       "      <th>02</th>\n",
       "      <th>03</th>\n",
       "      <th>04</th>\n",
       "      <th>05</th>\n",
       "      <th>06</th>\n",
       "      <th>07</th>\n",
       "      <th>08</th>\n",
       "      <th>09</th>\n",
       "      <th>10</th>\n",
       "      <th>11</th>\n",
       "      <th>12</th>\n",
       "    </tr>\n",
       "    <tr>\n",
       "      <th>Metadata_Row</th>\n",
       "      <th></th>\n",
       "      <th></th>\n",
       "      <th></th>\n",
       "      <th></th>\n",
       "      <th></th>\n",
       "      <th></th>\n",
       "      <th></th>\n",
       "      <th></th>\n",
       "      <th></th>\n",
       "      <th></th>\n",
       "      <th></th>\n",
       "      <th></th>\n",
       "    </tr>\n",
       "  </thead>\n",
       "  <tbody>\n",
       "    <tr>\n",
       "      <th>A</th>\n",
       "      <td>c1[10]</td>\n",
       "      <td>c27[10]</td>\n",
       "      <td>c4[10]</td>\n",
       "      <td>c33[10]</td>\n",
       "      <td>c39[10]</td>\n",
       "      <td>c7[10]</td>\n",
       "      <td>c47[10]</td>\n",
       "      <td>c30[10]</td>\n",
       "      <td>c5[10]</td>\n",
       "      <td>c48[10]</td>\n",
       "      <td>c10[10]</td>\n",
       "      <td>c13[10]</td>\n",
       "    </tr>\n",
       "    <tr>\n",
       "      <th>B</th>\n",
       "      <td>c45[10]</td>\n",
       "      <td>c42[10]</td>\n",
       "      <td>c25[10]</td>\n",
       "      <td>c22[10]</td>\n",
       "      <td>c40[10]</td>\n",
       "      <td>c9[10]</td>\n",
       "      <td>c14[10]</td>\n",
       "      <td>c36[10]</td>\n",
       "      <td>c43[10]</td>\n",
       "      <td>c20[10]</td>\n",
       "      <td>c37[10]</td>\n",
       "      <td>c21[10]</td>\n",
       "    </tr>\n",
       "    <tr>\n",
       "      <th>C</th>\n",
       "      <td>c38[10]</td>\n",
       "      <td>c18[10]</td>\n",
       "      <td>c17[10]</td>\n",
       "      <td>c44[10]</td>\n",
       "      <td>c35[10]</td>\n",
       "      <td>c19[10]</td>\n",
       "      <td>c34[10]</td>\n",
       "      <td>c31[10]</td>\n",
       "      <td>c11[10]</td>\n",
       "      <td>c32[10]</td>\n",
       "      <td>c12[10]</td>\n",
       "      <td>c3[10]</td>\n",
       "    </tr>\n",
       "    <tr>\n",
       "      <th>D</th>\n",
       "      <td>c16[10]</td>\n",
       "      <td>c54[10]</td>\n",
       "      <td>c41[10]</td>\n",
       "      <td>c2[10]</td>\n",
       "      <td>c46[10]</td>\n",
       "      <td>c26[10]</td>\n",
       "      <td>c53[10]</td>\n",
       "      <td>c8[10]</td>\n",
       "      <td>c23[10]</td>\n",
       "      <td>c29[10]</td>\n",
       "      <td>c24[10]</td>\n",
       "      <td>c15[10]</td>\n",
       "    </tr>\n",
       "    <tr>\n",
       "      <th>E</th>\n",
       "      <td>c6[10]</td>\n",
       "      <td>c28[10]</td>\n",
       "      <td>DMSO</td>\n",
       "      <td>DMSO</td>\n",
       "      <td>DMSO</td>\n",
       "      <td>NaN</td>\n",
       "      <td>NaN</td>\n",
       "      <td>NaN</td>\n",
       "      <td>NaN</td>\n",
       "      <td>NaN</td>\n",
       "      <td>NaN</td>\n",
       "      <td>NaN</td>\n",
       "    </tr>\n",
       "  </tbody>\n",
       "</table>\n",
       "</div>"
      ],
      "text/plain": [
       "Metadata_Column       01       02       03       04       05       06  \\\n",
       "Metadata_Row                                                            \n",
       "A                 c1[10]  c27[10]   c4[10]  c33[10]  c39[10]   c7[10]   \n",
       "B                c45[10]  c42[10]  c25[10]  c22[10]  c40[10]   c9[10]   \n",
       "C                c38[10]  c18[10]  c17[10]  c44[10]  c35[10]  c19[10]   \n",
       "D                c16[10]  c54[10]  c41[10]   c2[10]  c46[10]  c26[10]   \n",
       "E                 c6[10]  c28[10]     DMSO     DMSO     DMSO      NaN   \n",
       "\n",
       "Metadata_Column       07       08       09       10       11       12  \n",
       "Metadata_Row                                                           \n",
       "A                c47[10]  c30[10]   c5[10]  c48[10]  c10[10]  c13[10]  \n",
       "B                c14[10]  c36[10]  c43[10]  c20[10]  c37[10]  c21[10]  \n",
       "C                c34[10]  c31[10]  c11[10]  c32[10]  c12[10]   c3[10]  \n",
       "D                c53[10]   c8[10]  c23[10]  c29[10]  c24[10]  c15[10]  \n",
       "E                    NaN      NaN      NaN      NaN      NaN      NaN  "
      ]
     },
     "execution_count": 405,
     "metadata": {},
     "output_type": "execute_result"
    }
   ],
   "source": [
    "#@title Visualize and save treatment Source plates\n",
    "\n",
    "if len(trtSOURCE.columns) == 0:\n",
    "  print('no controls source plate was created')\n",
    "else:\n",
    "  trtlist = trtSOURCE['Source Plate'].unique().tolist()\n",
    "  for plate in trtlist:\n",
    "        df = trtSOURCE[trtSOURCE['Source Plate'] == plate ] \n",
    "        df['Metadata_Column'] =    df['Source Well'].astype(str).str[1:3]\n",
    "        df['Metadata_Row']    =    df['Source Well'].astype(str).str[0]\n",
    "\n",
    "        # save alist with source wells\n",
    "        df.to_csv(\"{}_{}.csv\".format(\"list_source\",plate), encoding = 'utf-8-sig', index=False) \n",
    "        #files.download(\"{}_{}.csv\".format(\"list_source\",plate))\n",
    "\n",
    "        # pivot table for easier visualization\n",
    "        trtpivot = df.pivot(columns=\"Metadata_Column\", index=\"Metadata_Row\", values=\"Liquid Name\") \n",
    "        print(\"treatment source plate:\", plate) \n",
    "        trtpivot.to_csv(\"output/{}_{}.csv\".format(protocol_name,plate), encoding = 'utf-8-sig', index=False) \n",
    "        #files.download(\"{}_{}.csv\".format(protocol_name,plate))\n",
    "\n",
    "print(\"here a preview of the last source plate:\")\n",
    "trtpivot"
   ]
  },
  {
   "cell_type": "code",
   "execution_count": 406,
   "metadata": {
    "cellView": "form",
    "colab": {
     "base_uri": "https://localhost:8080/"
    },
    "executionInfo": {
     "elapsed": 4,
     "status": "ok",
     "timestamp": 1678198462299,
     "user": {
      "displayName": "Jonne Rietdijk",
      "userId": "14743434130742158701"
     },
     "user_tz": -60
    },
    "id": "LKkmxZGVmpHV",
    "outputId": "014b0b78-ca28-4b0f-c231-e80ff7db397c"
   },
   "outputs": [
    {
     "name": "stdout",
     "output_type": "stream",
     "text": [
      "no controls source plate was created, if this is correct just continue\n"
     ]
    }
   ],
   "source": [
    "#@title Visualize and save controls Source plates\n",
    "\n",
    "#if len(ctrlSOURCE.columns) == 0:\n",
    "#  print('no controls source plate was created, if this is correct just continue')\n",
    "\n",
    "if 'ctrlSOURCE' not in locals() or 'ctrlSOURCE' not in globals():\n",
    "    print('no controls source plate was created, if this is correct just continue')\n",
    "\n",
    "else:\n",
    "  ctrllist = ctrlSOURCE['Source Plate'].unique().tolist()\n",
    "  for plate in ctrllist:\n",
    "      df = ctrlSOURCE[ctrlSOURCE['Source Plate'] == plate ] \n",
    "      df['Metadata_Column'] =    df['Source Well'].astype(str).str[1:3]\n",
    "      df['Metadata_Row']    =    df['Source Well'].astype(str).str[0]\n",
    "      ctrlpivot = df.pivot(columns=\"Metadata_Column\", index=\"Metadata_Row\", values=\"Liquid Name\") \n",
    "      print(\"controls source plate were created:\", plate) \n",
    "      ctrlpivot \n",
    "\n",
    "      ctrlpivot.to_csv(\"output/{}_{}.csv\".format(protocol_name,plate), encoding = 'utf-8-sig') \n",
    "      #files.download(\"{}_{}.csv\".format(protocol_name,plate))"
   ]
  },
  {
   "cell_type": "code",
   "execution_count": 407,
   "metadata": {
    "colab": {
     "base_uri": "https://localhost:8080/",
     "height": 112
    },
    "executionInfo": {
     "elapsed": 8,
     "status": "ok",
     "timestamp": 1678198466500,
     "user": {
      "displayName": "Jonne Rietdijk",
      "userId": "14743434130742158701"
     },
     "user_tz": -60
    },
    "id": "qIbhRB8tlleX",
    "outputId": "4af60c67-3db8-4a6b-8953-dbc296da709f"
   },
   "outputs": [],
   "source": [
    "# merge all source plates\n",
    "\n",
    "if sourceplate_strat == 'manual_list':\n",
    "  frames = [trtSOURCE]\n",
    "else:\n",
    "  frames = [trtSOURCE, ctrlSOURCE, dmsoSOURCE]\n",
    "  \n",
    "source = pd.concat(frames)\n",
    "\n",
    "#source"
   ]
  },
  {
   "cell_type": "code",
   "execution_count": 408,
   "metadata": {
    "colab": {
     "base_uri": "https://localhost:8080/",
     "height": 112
    },
    "executionInfo": {
     "elapsed": 8,
     "status": "ok",
     "timestamp": 1678198466500,
     "user": {
      "displayName": "Jonne Rietdijk",
      "userId": "14743434130742158701"
     },
     "user_tz": -60
    },
    "id": "qIbhRB8tlleX",
    "outputId": "4af60c67-3db8-4a6b-8953-dbc296da709f"
   },
   "outputs": [],
   "source": [
    "# change leading zeros\n",
    "if source[\"Source Well\"].str.len().min() > 2:\n",
    "    source['Source Well']= source['Source Well'].apply(removeleadingzero)"
   ]
  },
  {
   "cell_type": "markdown",
   "metadata": {
    "id": "AfGUkGpEASU_"
   },
   "source": [
    "# format protocols"
   ]
  },
  {
   "cell_type": "code",
   "execution_count": 409,
   "metadata": {},
   "outputs": [],
   "source": [
    "combine_to_one_protocol  = True # Enable/disable priming before dispensing (=True/False) "
   ]
  },
  {
   "cell_type": "code",
   "execution_count": 410,
   "metadata": {
    "colab": {
     "base_uri": "https://localhost:8080/",
     "height": 17
    },
    "executionInfo": {
     "elapsed": 5,
     "status": "ok",
     "timestamp": 1678198468298,
     "user": {
      "displayName": "Jonne Rietdijk",
      "userId": "14743434130742158701"
     },
     "user_tz": -60
    },
    "id": "s7TmZw1-YP8Q",
    "outputId": "03c166d4-9edd-422c-8a0e-7669b5a66710"
   },
   "outputs": [
    {
     "name": "stdout",
     "output_type": "stream",
     "text": [
      "object\n",
      "[1]\n",
      "['L1', 'L2', 'L3']\n"
     ]
    }
   ],
   "source": [
    "# Next step is to create and format the idot protocol\n",
    "\n",
    "# assign source well for targets\n",
    "sourcedictwell  = dict(source[[\"Liquid Name\",\"Source Well\"]].values)\n",
    "target[\"Source Well\"]  = target[\"Liquid Name\"].map(sourcedictwell)\n",
    "\n",
    "# assign source plate for targets\n",
    "sourceplatedict = dict(source[[\"Liquid Name\",\"Source Plate\"]].values)\n",
    "target[\"Source Plate\"] = target[\"Liquid Name\"].map(sourceplatedict)\n",
    "\n",
    "sourceplates = source['Source Plate'].unique().tolist()\n",
    "targetplates = target['Target Plate'].unique().tolist()\n",
    "\n",
    "#sourceplates = sourceplates[::-1] # ?\n",
    "\n",
    "targetformat = target[[\"Target Plate\",\"Target Well\",\"Volume [uL]\",\"Liquid Name\"]]\n",
    "\n",
    "print(target[\"Liquid Name\"].dtypes)\n",
    "\n",
    "print(sourceplates)\n",
    "print(targetplates)"
   ]
  },
  {
   "cell_type": "code",
   "execution_count": 411,
   "metadata": {
    "colab": {
     "base_uri": "https://localhost:8080/",
     "height": 17
    },
    "executionInfo": {
     "elapsed": 5,
     "status": "ok",
     "timestamp": 1678198468298,
     "user": {
      "displayName": "Jonne Rietdijk",
      "userId": "14743434130742158701"
     },
     "user_tz": -60
    },
    "id": "s7TmZw1-YP8Q",
    "outputId": "03c166d4-9edd-422c-8a0e-7669b5a66710"
   },
   "outputs": [],
   "source": [
    "# code for 1 protocol per source plate\n",
    "\n",
    "if combine_to_one_protocol == False:\n",
    "    \n",
    "    for splate in sourceplates:\n",
    "        collected_df = []\n",
    "        i = 1\n",
    "\n",
    "        for tplate in targetplates:\n",
    "            df = target.loc[((target[\"Source Plate\"] == splate) & (target[\"Target Plate\"] == tplate ) )]\n",
    "\n",
    "            df = df[[\"Source Well\",\"Target Well\",\"Volume [uL]\",\"Liquid Name\"]]\n",
    "            df = df.reindex(columns=[*df.columns.tolist(), \"\", \"\",\"\",\"\"], fill_value=\"\")\n",
    "\n",
    "            df = pd.concat([df.columns.to_frame().T, df], ignore_index=True)\n",
    "            df.columns = range(len(df.columns)) \n",
    "\n",
    "            subheader = [[sourceplate_type, splate, \"\",max_volume, target_plate_type, tplate, \"\",waste],\n",
    "            [\"DispenseToWaste=\"+str(dispense_to_waste),\"DispenseToWasteCycles=\"+str(dispense_to_waste_cycles),\"DispenseToWasteVolume=\"+str(dispense_to_waste_volume),\"UseDeionisation=\"+str(use_deionisation),\"OptimizationLevel=\"+str(optimization_level),\"WasteErrorHandlingLevel=\"+str(waste_error_handling_level),\"SaveLiquids=\"+str(save_liquids),\"\"]]\n",
    "            subheader = pd.DataFrame(subheader)\n",
    "\n",
    "            protocol = pd.concat([subheader, df],ignore_index=True)\n",
    "            collected_df.append(protocol)\n",
    "\n",
    "        dfs = pd.concat(collected_df)\n",
    "\n",
    "        header = [[protocol_name, software, user_name, date, time,\"\",\"\",\"\"]]\n",
    "        header = pd.DataFrame(header)\n",
    "\n",
    "        # header and pipetting steps:\n",
    "        fullprotocol = pd.concat([header, dfs],ignore_index=True)\n",
    "\n",
    "        fullprotocol.to_csv(\"IDOT_{}.csv\".format(splate), header=False, index=False,encoding = 'utf-8-sig') \n",
    "        #files.download(\"IDOT_{}.csv\".format(splate))\n",
    "    "
   ]
  },
  {
   "cell_type": "code",
   "execution_count": 412,
   "metadata": {
    "colab": {
     "base_uri": "https://localhost:8080/",
     "height": 17
    },
    "executionInfo": {
     "elapsed": 5,
     "status": "ok",
     "timestamp": 1678198471930,
     "user": {
      "displayName": "Jonne Rietdijk",
      "userId": "14743434130742158701"
     },
     "user_tz": -60
    },
    "id": "8nG7QWdqGAO2",
    "outputId": "5a0fb09a-c5e3-48e5-d6bf-e86a6bd3ae56"
   },
   "outputs": [],
   "source": [
    "#@title Next step is to create and format the idot protocol (all in 1 protocol)\n",
    "\n",
    "if combine_to_one_protocol == True:\n",
    "    \n",
    "    collected_df = []\n",
    "    i = 1\n",
    "\n",
    "    for splate in sourceplates:\n",
    "        for tplate in targetplates:\n",
    "            df = target.loc[((target[\"Source Plate\"] == splate) & (target[\"Target Plate\"] == tplate ) )]\n",
    "\n",
    "            df = df[[\"Source Well\",\"Target Well\",\"Volume [uL]\",\"Liquid Name\"]]\n",
    "            df = df.reindex(columns=[*df.columns.tolist(), \"\", \"\",\"\",\"\"], fill_value=\"\")\n",
    "\n",
    "            df = pd.concat([df.columns.to_frame().T, df], ignore_index=True)\n",
    "            df.columns = range(len(df.columns)) \n",
    "\n",
    "            subheader = [[sourceplate_type, splate, \"\",max_volume, target_plate_type, tplate, \"\",waste],\n",
    "            [\"DispenseToWaste=\"+str(dispense_to_waste),\"DispenseToWasteCycles=\"+str(dispense_to_waste_cycles),\"DispenseToWasteVolume=\"+str(dispense_to_waste_volume),\"UseDeionisation=\"+str(use_deionisation),\"OptimizationLevel=\"+str(optimization_level),\"WasteErrorHandlingLevel=\"+str(waste_error_handling_level),\"SaveLiquids=\"+str(save_liquids),\"\"]]\n",
    "            subheader = pd.DataFrame(subheader)\n",
    "\n",
    "            protocol = pd.concat([subheader, df],ignore_index=True)\n",
    "            collected_df.append(protocol)\n",
    "\n",
    "    header = [[protocol_name, software, user_name, date, time,\"\",\"\",\"\"]]\n",
    "    header = pd.DataFrame(header)\n",
    "\n",
    "    dfs = pd.concat(collected_df)\n",
    "    fullprotocol = pd.concat([header, dfs],ignore_index=True)\n",
    "\n",
    "    fullprotocol.to_csv(\"IDOT_{}.csv\".format(protocol_name), header=False, index=False,encoding = 'utf-8-sig') \n",
    "    #files.download(\"IDOT_{}.csv\".format(protocol_name))\n"
   ]
  },
  {
   "cell_type": "code",
   "execution_count": 413,
   "metadata": {
    "cellView": "form",
    "colab": {
     "base_uri": "https://localhost:8080/",
     "height": 522
    },
    "executionInfo": {
     "elapsed": 6,
     "status": "ok",
     "timestamp": 1678198472279,
     "user": {
      "displayName": "Jonne Rietdijk",
      "userId": "14743434130742158701"
     },
     "user_tz": -60
    },
    "id": "thFkU0pNpcq9",
    "outputId": "12a72cfe-f30a-49d4-af7d-df2cde999d88"
   },
   "outputs": [
    {
     "data": {
      "text/html": [
       "<div>\n",
       "<style scoped>\n",
       "    .dataframe tbody tr th:only-of-type {\n",
       "        vertical-align: middle;\n",
       "    }\n",
       "\n",
       "    .dataframe tbody tr th {\n",
       "        vertical-align: top;\n",
       "    }\n",
       "\n",
       "    .dataframe thead th {\n",
       "        text-align: right;\n",
       "    }\n",
       "</style>\n",
       "<table border=\"1\" class=\"dataframe\">\n",
       "  <thead>\n",
       "    <tr style=\"text-align: right;\">\n",
       "      <th></th>\n",
       "      <th>0</th>\n",
       "      <th>1</th>\n",
       "      <th>2</th>\n",
       "      <th>3</th>\n",
       "      <th>4</th>\n",
       "      <th>5</th>\n",
       "      <th>6</th>\n",
       "      <th>7</th>\n",
       "    </tr>\n",
       "  </thead>\n",
       "  <tbody>\n",
       "    <tr>\n",
       "      <th>0</th>\n",
       "      <td>bf-moa-live</td>\n",
       "      <td>1.7.2021.1019</td>\n",
       "      <td>Jonne</td>\n",
       "      <td>03/25/23</td>\n",
       "      <td>22:18:50</td>\n",
       "      <td></td>\n",
       "      <td></td>\n",
       "      <td></td>\n",
       "    </tr>\n",
       "    <tr>\n",
       "      <th>1</th>\n",
       "      <td>S.100 Plate</td>\n",
       "      <td>1</td>\n",
       "      <td></td>\n",
       "      <td>0.00008</td>\n",
       "      <td>MWP 384</td>\n",
       "      <td>L1</td>\n",
       "      <td></td>\n",
       "      <td>Waste Tube</td>\n",
       "    </tr>\n",
       "    <tr>\n",
       "      <th>2</th>\n",
       "      <td>DispenseToWaste=True</td>\n",
       "      <td>DispenseToWasteCycles=2</td>\n",
       "      <td>DispenseToWasteVolume=5e-08</td>\n",
       "      <td>UseDeionisation=True</td>\n",
       "      <td>OptimizationLevel=ReorderAndParallel</td>\n",
       "      <td>WasteErrorHandlingLevel=Ask</td>\n",
       "      <td>SaveLiquids=Ask</td>\n",
       "      <td></td>\n",
       "    </tr>\n",
       "    <tr>\n",
       "      <th>3</th>\n",
       "      <td>Source Well</td>\n",
       "      <td>Target Well</td>\n",
       "      <td>Volume [uL]</td>\n",
       "      <td>Liquid Name</td>\n",
       "      <td></td>\n",
       "      <td></td>\n",
       "      <td></td>\n",
       "      <td></td>\n",
       "    </tr>\n",
       "    <tr>\n",
       "      <th>4</th>\n",
       "      <td>A1</td>\n",
       "      <td>B2</td>\n",
       "      <td>0.04</td>\n",
       "      <td>c1[10]</td>\n",
       "      <td></td>\n",
       "      <td></td>\n",
       "      <td></td>\n",
       "      <td></td>\n",
       "    </tr>\n",
       "    <tr>\n",
       "      <th>...</th>\n",
       "      <td>...</td>\n",
       "      <td>...</td>\n",
       "      <td>...</td>\n",
       "      <td>...</td>\n",
       "      <td>...</td>\n",
       "      <td>...</td>\n",
       "      <td>...</td>\n",
       "      <td>...</td>\n",
       "    </tr>\n",
       "    <tr>\n",
       "      <th>605</th>\n",
       "      <td>E1</td>\n",
       "      <td>J21</td>\n",
       "      <td>0.04</td>\n",
       "      <td>c6[10]</td>\n",
       "      <td></td>\n",
       "      <td></td>\n",
       "      <td></td>\n",
       "      <td></td>\n",
       "    </tr>\n",
       "    <tr>\n",
       "      <th>606</th>\n",
       "      <td>E2</td>\n",
       "      <td>D18</td>\n",
       "      <td>0.04</td>\n",
       "      <td>c28[10]</td>\n",
       "      <td></td>\n",
       "      <td></td>\n",
       "      <td></td>\n",
       "      <td></td>\n",
       "    </tr>\n",
       "    <tr>\n",
       "      <th>607</th>\n",
       "      <td>E2</td>\n",
       "      <td>I6</td>\n",
       "      <td>0.04</td>\n",
       "      <td>c28[10]</td>\n",
       "      <td></td>\n",
       "      <td></td>\n",
       "      <td></td>\n",
       "      <td></td>\n",
       "    </tr>\n",
       "    <tr>\n",
       "      <th>608</th>\n",
       "      <td>E2</td>\n",
       "      <td>K23</td>\n",
       "      <td>0.04</td>\n",
       "      <td>c28[10]</td>\n",
       "      <td></td>\n",
       "      <td></td>\n",
       "      <td></td>\n",
       "      <td></td>\n",
       "    </tr>\n",
       "    <tr>\n",
       "      <th>609</th>\n",
       "      <td>E2</td>\n",
       "      <td>N17</td>\n",
       "      <td>0.04</td>\n",
       "      <td>c28[10]</td>\n",
       "      <td></td>\n",
       "      <td></td>\n",
       "      <td></td>\n",
       "      <td></td>\n",
       "    </tr>\n",
       "  </tbody>\n",
       "</table>\n",
       "<p>610 rows × 8 columns</p>\n",
       "</div>"
      ],
      "text/plain": [
       "                        0                        1  \\\n",
       "0             bf-moa-live            1.7.2021.1019   \n",
       "1             S.100 Plate                        1   \n",
       "2    DispenseToWaste=True  DispenseToWasteCycles=2   \n",
       "3             Source Well              Target Well   \n",
       "4                      A1                       B2   \n",
       "..                    ...                      ...   \n",
       "605                    E1                      J21   \n",
       "606                    E2                      D18   \n",
       "607                    E2                       I6   \n",
       "608                    E2                      K23   \n",
       "609                    E2                      N17   \n",
       "\n",
       "                               2                     3  \\\n",
       "0                          Jonne              03/25/23   \n",
       "1                                              0.00008   \n",
       "2    DispenseToWasteVolume=5e-08  UseDeionisation=True   \n",
       "3                    Volume [uL]           Liquid Name   \n",
       "4                           0.04                c1[10]   \n",
       "..                           ...                   ...   \n",
       "605                         0.04                c6[10]   \n",
       "606                         0.04               c28[10]   \n",
       "607                         0.04               c28[10]   \n",
       "608                         0.04               c28[10]   \n",
       "609                         0.04               c28[10]   \n",
       "\n",
       "                                        4                            5  \\\n",
       "0                                22:18:50                                \n",
       "1                                 MWP 384                           L1   \n",
       "2    OptimizationLevel=ReorderAndParallel  WasteErrorHandlingLevel=Ask   \n",
       "3                                                                        \n",
       "4                                                                        \n",
       "..                                    ...                          ...   \n",
       "605                                                                      \n",
       "606                                                                      \n",
       "607                                                                      \n",
       "608                                                                      \n",
       "609                                                                      \n",
       "\n",
       "                   6           7  \n",
       "0                                 \n",
       "1                     Waste Tube  \n",
       "2    SaveLiquids=Ask              \n",
       "3                                 \n",
       "4                                 \n",
       "..               ...         ...  \n",
       "605                               \n",
       "606                               \n",
       "607                               \n",
       "608                               \n",
       "609                               \n",
       "\n",
       "[610 rows x 8 columns]"
      ]
     },
     "execution_count": 413,
     "metadata": {},
     "output_type": "execute_result"
    }
   ],
   "source": [
    "# see the protocol\n",
    "fullprotocol"
   ]
  },
  {
   "cell_type": "markdown",
   "metadata": {},
   "source": [
    "# Cross-check all conditions from protocol"
   ]
  },
  {
   "cell_type": "code",
   "execution_count": 414,
   "metadata": {
    "id": "pFhrBKYmZz8_"
   },
   "outputs": [],
   "source": [
    "sourcewell = source[[\"Liquid Name\",\"Source Well\"]]\n",
    "sourcedictwell = dict(sourcewell.values)\n",
    "\n",
    "sourceplate = source[[\"Liquid Name\",\"Source Plate\"]]\n",
    "sourceplatedict = dict(sourceplate.values)\n",
    "\n",
    "target[\"Source Well\"]  = target[\"Liquid Name\"].map(sourcedictwell)\n",
    "target[\"Source Plate\"] = target[\"Liquid Name\"].map(sourceplatedict)\n",
    "\n",
    "sourceplates = source['Source Plate'].unique().tolist()\n",
    "targetplates = target['Target Plate'].unique().tolist()\n",
    "\n",
    "sourceplates = sourceplates[::-1]\n",
    "\n",
    "targetformat = target[[\"Target Plate\",\"Target Well\",\"Volume [uL]\",\"Liquid Name\"]]\n",
    "\n",
    "collected_df = []\n",
    "i = 1"
   ]
  },
  {
   "cell_type": "code",
   "execution_count": 415,
   "metadata": {
    "colab": {
     "base_uri": "https://localhost:8080/",
     "height": 655
    },
    "executionInfo": {
     "elapsed": 404,
     "status": "ok",
     "timestamp": 1678141782023,
     "user": {
      "displayName": "Jonne Rietdijk",
      "userId": "14743434130742158701"
     },
     "user_tz": -60
    },
    "id": "aIzRmbIRqmha",
    "outputId": "19be0b71-1cd5-4992-8387-22afd6f3d2d1"
   },
   "outputs": [
    {
     "data": {
      "text/html": [
       "<div>\n",
       "<style scoped>\n",
       "    .dataframe tbody tr th:only-of-type {\n",
       "        vertical-align: middle;\n",
       "    }\n",
       "\n",
       "    .dataframe tbody tr th {\n",
       "        vertical-align: top;\n",
       "    }\n",
       "\n",
       "    .dataframe thead th {\n",
       "        text-align: right;\n",
       "    }\n",
       "</style>\n",
       "<table border=\"1\" class=\"dataframe\">\n",
       "  <thead>\n",
       "    <tr style=\"text-align: right;\">\n",
       "      <th></th>\n",
       "      <th>Source Well</th>\n",
       "      <th>Target Well</th>\n",
       "      <th>Volume [uL]</th>\n",
       "      <th>Liquid Name</th>\n",
       "      <th>Compound_Name</th>\n",
       "      <th>Compound_Dose</th>\n",
       "    </tr>\n",
       "  </thead>\n",
       "  <tbody>\n",
       "    <tr>\n",
       "      <th>0</th>\n",
       "      <td>A1</td>\n",
       "      <td>B2</td>\n",
       "      <td>0.04</td>\n",
       "      <td>c1[10]</td>\n",
       "      <td>c1</td>\n",
       "      <td>10</td>\n",
       "    </tr>\n",
       "    <tr>\n",
       "      <th>1</th>\n",
       "      <td>A1</td>\n",
       "      <td>I18</td>\n",
       "      <td>0.04</td>\n",
       "      <td>c1[10]</td>\n",
       "      <td>c1</td>\n",
       "      <td>10</td>\n",
       "    </tr>\n",
       "    <tr>\n",
       "      <th>2</th>\n",
       "      <td>A1</td>\n",
       "      <td>K14</td>\n",
       "      <td>0.04</td>\n",
       "      <td>c1[10]</td>\n",
       "      <td>c1</td>\n",
       "      <td>10</td>\n",
       "    </tr>\n",
       "    <tr>\n",
       "      <th>3</th>\n",
       "      <td>A1</td>\n",
       "      <td>N11</td>\n",
       "      <td>0.04</td>\n",
       "      <td>c1[10]</td>\n",
       "      <td>c1</td>\n",
       "      <td>10</td>\n",
       "    </tr>\n",
       "    <tr>\n",
       "      <th>12</th>\n",
       "      <td>A2</td>\n",
       "      <td>B3</td>\n",
       "      <td>0.04</td>\n",
       "      <td>c27[10]</td>\n",
       "      <td>c27</td>\n",
       "      <td>10</td>\n",
       "    </tr>\n",
       "    <tr>\n",
       "      <th>...</th>\n",
       "      <td>...</td>\n",
       "      <td>...</td>\n",
       "      <td>...</td>\n",
       "      <td>...</td>\n",
       "      <td>...</td>\n",
       "      <td>...</td>\n",
       "    </tr>\n",
       "    <tr>\n",
       "      <th>635</th>\n",
       "      <td>E1</td>\n",
       "      <td>J21</td>\n",
       "      <td>0.04</td>\n",
       "      <td>c6[10]</td>\n",
       "      <td>c6</td>\n",
       "      <td>10</td>\n",
       "    </tr>\n",
       "    <tr>\n",
       "      <th>644</th>\n",
       "      <td>E2</td>\n",
       "      <td>D18</td>\n",
       "      <td>0.04</td>\n",
       "      <td>c28[10]</td>\n",
       "      <td>c28</td>\n",
       "      <td>10</td>\n",
       "    </tr>\n",
       "    <tr>\n",
       "      <th>645</th>\n",
       "      <td>E2</td>\n",
       "      <td>I6</td>\n",
       "      <td>0.04</td>\n",
       "      <td>c28[10]</td>\n",
       "      <td>c28</td>\n",
       "      <td>10</td>\n",
       "    </tr>\n",
       "    <tr>\n",
       "      <th>646</th>\n",
       "      <td>E2</td>\n",
       "      <td>K23</td>\n",
       "      <td>0.04</td>\n",
       "      <td>c28[10]</td>\n",
       "      <td>c28</td>\n",
       "      <td>10</td>\n",
       "    </tr>\n",
       "    <tr>\n",
       "      <th>647</th>\n",
       "      <td>E2</td>\n",
       "      <td>N17</td>\n",
       "      <td>0.04</td>\n",
       "      <td>c28[10]</td>\n",
       "      <td>c28</td>\n",
       "      <td>10</td>\n",
       "    </tr>\n",
       "  </tbody>\n",
       "</table>\n",
       "<p>600 rows × 6 columns</p>\n",
       "</div>"
      ],
      "text/plain": [
       "    Source Well Target Well  Volume [uL] Liquid Name Compound_Name  \\\n",
       "0            A1          B2         0.04      c1[10]            c1   \n",
       "1            A1         I18         0.04      c1[10]            c1   \n",
       "2            A1         K14         0.04      c1[10]            c1   \n",
       "3            A1         N11         0.04      c1[10]            c1   \n",
       "12           A2          B3         0.04     c27[10]           c27   \n",
       "..          ...         ...          ...         ...           ...   \n",
       "635          E1         J21         0.04      c6[10]            c6   \n",
       "644          E2         D18         0.04     c28[10]           c28   \n",
       "645          E2          I6         0.04     c28[10]           c28   \n",
       "646          E2         K23         0.04     c28[10]           c28   \n",
       "647          E2         N17         0.04     c28[10]           c28   \n",
       "\n",
       "    Compound_Dose  \n",
       "0              10  \n",
       "1              10  \n",
       "2              10  \n",
       "3              10  \n",
       "12             10  \n",
       "..            ...  \n",
       "635            10  \n",
       "644            10  \n",
       "645            10  \n",
       "646            10  \n",
       "647            10  \n",
       "\n",
       "[600 rows x 6 columns]"
      ]
     },
     "execution_count": 415,
     "metadata": {},
     "output_type": "execute_result"
    }
   ],
   "source": [
    "#@title Cross-check all liquids to check\n",
    "\n",
    "def split_column(text):\n",
    "    if '[' in text:\n",
    "        text_split = text.split('[')\n",
    "        return pd.Series([text_split[0], text_split[1].rstrip(']')])\n",
    "    else:\n",
    "        return pd.Series([text, ''])\n",
    "\n",
    "for splate in sourceplates:\n",
    "    for tplate in targetplates:\n",
    "        df = target.loc[((target[\"Source Plate\"] == splate) & (target[\"Target Plate\"] == tplate ) )]                \n",
    "        df = df[[\"Source Well\",\"Target Well\",\"Volume [uL]\",\"Liquid Name\"]]\n",
    "        df[['Compound_Name', 'Compound_Dose']] = df['Liquid Name'].apply(split_column)\n",
    "        collected_df.append(df)\n",
    "\n",
    "df2 = pd.concat(collected_df)\n",
    "\n",
    "df2"
   ]
  },
  {
   "cell_type": "code",
   "execution_count": 416,
   "metadata": {},
   "outputs": [
    {
     "data": {
      "text/html": [
       "<div>\n",
       "<style scoped>\n",
       "    .dataframe tbody tr th:only-of-type {\n",
       "        vertical-align: middle;\n",
       "    }\n",
       "\n",
       "    .dataframe tbody tr th {\n",
       "        vertical-align: top;\n",
       "    }\n",
       "\n",
       "    .dataframe thead th {\n",
       "        text-align: right;\n",
       "    }\n",
       "</style>\n",
       "<table border=\"1\" class=\"dataframe\">\n",
       "  <thead>\n",
       "    <tr style=\"text-align: right;\">\n",
       "      <th></th>\n",
       "      <th></th>\n",
       "      <th>counts</th>\n",
       "    </tr>\n",
       "    <tr>\n",
       "      <th>Liquid Name</th>\n",
       "      <th>Volume [uL]</th>\n",
       "      <th></th>\n",
       "    </tr>\n",
       "  </thead>\n",
       "  <tbody>\n",
       "    <tr>\n",
       "      <th>c10[10]</th>\n",
       "      <th>0.04</th>\n",
       "      <td>12</td>\n",
       "    </tr>\n",
       "    <tr>\n",
       "      <th>c11[10]</th>\n",
       "      <th>0.04</th>\n",
       "      <td>12</td>\n",
       "    </tr>\n",
       "    <tr>\n",
       "      <th>c12[10]</th>\n",
       "      <th>0.04</th>\n",
       "      <td>12</td>\n",
       "    </tr>\n",
       "    <tr>\n",
       "      <th>c13[10]</th>\n",
       "      <th>0.04</th>\n",
       "      <td>12</td>\n",
       "    </tr>\n",
       "    <tr>\n",
       "      <th>c14[10]</th>\n",
       "      <th>0.04</th>\n",
       "      <td>12</td>\n",
       "    </tr>\n",
       "    <tr>\n",
       "      <th>c15[10]</th>\n",
       "      <th>0.04</th>\n",
       "      <td>12</td>\n",
       "    </tr>\n",
       "    <tr>\n",
       "      <th>c16[10]</th>\n",
       "      <th>0.04</th>\n",
       "      <td>12</td>\n",
       "    </tr>\n",
       "    <tr>\n",
       "      <th>c17[10]</th>\n",
       "      <th>0.04</th>\n",
       "      <td>12</td>\n",
       "    </tr>\n",
       "    <tr>\n",
       "      <th>c18[10]</th>\n",
       "      <th>0.04</th>\n",
       "      <td>12</td>\n",
       "    </tr>\n",
       "    <tr>\n",
       "      <th>c19[10]</th>\n",
       "      <th>0.04</th>\n",
       "      <td>12</td>\n",
       "    </tr>\n",
       "    <tr>\n",
       "      <th>c1[10]</th>\n",
       "      <th>0.04</th>\n",
       "      <td>12</td>\n",
       "    </tr>\n",
       "    <tr>\n",
       "      <th>c20[10]</th>\n",
       "      <th>0.04</th>\n",
       "      <td>12</td>\n",
       "    </tr>\n",
       "    <tr>\n",
       "      <th>c21[10]</th>\n",
       "      <th>0.04</th>\n",
       "      <td>12</td>\n",
       "    </tr>\n",
       "    <tr>\n",
       "      <th>c22[10]</th>\n",
       "      <th>0.04</th>\n",
       "      <td>12</td>\n",
       "    </tr>\n",
       "    <tr>\n",
       "      <th>c23[10]</th>\n",
       "      <th>0.04</th>\n",
       "      <td>12</td>\n",
       "    </tr>\n",
       "    <tr>\n",
       "      <th>c24[10]</th>\n",
       "      <th>0.04</th>\n",
       "      <td>12</td>\n",
       "    </tr>\n",
       "    <tr>\n",
       "      <th>c25[10]</th>\n",
       "      <th>0.04</th>\n",
       "      <td>12</td>\n",
       "    </tr>\n",
       "    <tr>\n",
       "      <th>c26[10]</th>\n",
       "      <th>0.04</th>\n",
       "      <td>12</td>\n",
       "    </tr>\n",
       "    <tr>\n",
       "      <th>c27[10]</th>\n",
       "      <th>0.04</th>\n",
       "      <td>12</td>\n",
       "    </tr>\n",
       "    <tr>\n",
       "      <th>c28[10]</th>\n",
       "      <th>0.04</th>\n",
       "      <td>12</td>\n",
       "    </tr>\n",
       "    <tr>\n",
       "      <th>c29[10]</th>\n",
       "      <th>0.04</th>\n",
       "      <td>12</td>\n",
       "    </tr>\n",
       "    <tr>\n",
       "      <th>c2[10]</th>\n",
       "      <th>0.04</th>\n",
       "      <td>12</td>\n",
       "    </tr>\n",
       "    <tr>\n",
       "      <th>c30[10]</th>\n",
       "      <th>0.04</th>\n",
       "      <td>12</td>\n",
       "    </tr>\n",
       "    <tr>\n",
       "      <th>c31[10]</th>\n",
       "      <th>0.04</th>\n",
       "      <td>12</td>\n",
       "    </tr>\n",
       "    <tr>\n",
       "      <th>c32[10]</th>\n",
       "      <th>0.04</th>\n",
       "      <td>12</td>\n",
       "    </tr>\n",
       "    <tr>\n",
       "      <th>c33[10]</th>\n",
       "      <th>0.04</th>\n",
       "      <td>12</td>\n",
       "    </tr>\n",
       "    <tr>\n",
       "      <th>c34[10]</th>\n",
       "      <th>0.04</th>\n",
       "      <td>12</td>\n",
       "    </tr>\n",
       "    <tr>\n",
       "      <th>c35[10]</th>\n",
       "      <th>0.04</th>\n",
       "      <td>12</td>\n",
       "    </tr>\n",
       "    <tr>\n",
       "      <th>c36[10]</th>\n",
       "      <th>0.04</th>\n",
       "      <td>12</td>\n",
       "    </tr>\n",
       "    <tr>\n",
       "      <th>c37[10]</th>\n",
       "      <th>0.04</th>\n",
       "      <td>12</td>\n",
       "    </tr>\n",
       "    <tr>\n",
       "      <th>c38[10]</th>\n",
       "      <th>0.04</th>\n",
       "      <td>12</td>\n",
       "    </tr>\n",
       "    <tr>\n",
       "      <th>c39[10]</th>\n",
       "      <th>0.04</th>\n",
       "      <td>12</td>\n",
       "    </tr>\n",
       "    <tr>\n",
       "      <th>c3[10]</th>\n",
       "      <th>0.04</th>\n",
       "      <td>12</td>\n",
       "    </tr>\n",
       "    <tr>\n",
       "      <th>c40[10]</th>\n",
       "      <th>0.04</th>\n",
       "      <td>12</td>\n",
       "    </tr>\n",
       "    <tr>\n",
       "      <th>c41[10]</th>\n",
       "      <th>0.04</th>\n",
       "      <td>12</td>\n",
       "    </tr>\n",
       "    <tr>\n",
       "      <th>c42[10]</th>\n",
       "      <th>0.04</th>\n",
       "      <td>12</td>\n",
       "    </tr>\n",
       "    <tr>\n",
       "      <th>c43[10]</th>\n",
       "      <th>0.04</th>\n",
       "      <td>12</td>\n",
       "    </tr>\n",
       "    <tr>\n",
       "      <th>c44[10]</th>\n",
       "      <th>0.04</th>\n",
       "      <td>12</td>\n",
       "    </tr>\n",
       "    <tr>\n",
       "      <th>c45[10]</th>\n",
       "      <th>0.04</th>\n",
       "      <td>12</td>\n",
       "    </tr>\n",
       "    <tr>\n",
       "      <th>c46[10]</th>\n",
       "      <th>0.04</th>\n",
       "      <td>12</td>\n",
       "    </tr>\n",
       "    <tr>\n",
       "      <th>c47[10]</th>\n",
       "      <th>0.04</th>\n",
       "      <td>12</td>\n",
       "    </tr>\n",
       "    <tr>\n",
       "      <th>c48[10]</th>\n",
       "      <th>0.04</th>\n",
       "      <td>12</td>\n",
       "    </tr>\n",
       "    <tr>\n",
       "      <th>c4[10]</th>\n",
       "      <th>0.04</th>\n",
       "      <td>12</td>\n",
       "    </tr>\n",
       "    <tr>\n",
       "      <th>c53[10]</th>\n",
       "      <th>0.04</th>\n",
       "      <td>12</td>\n",
       "    </tr>\n",
       "    <tr>\n",
       "      <th>c54[10]</th>\n",
       "      <th>0.04</th>\n",
       "      <td>12</td>\n",
       "    </tr>\n",
       "    <tr>\n",
       "      <th>c5[10]</th>\n",
       "      <th>0.04</th>\n",
       "      <td>12</td>\n",
       "    </tr>\n",
       "    <tr>\n",
       "      <th>c6[10]</th>\n",
       "      <th>0.04</th>\n",
       "      <td>12</td>\n",
       "    </tr>\n",
       "    <tr>\n",
       "      <th>c7[10]</th>\n",
       "      <th>0.04</th>\n",
       "      <td>12</td>\n",
       "    </tr>\n",
       "    <tr>\n",
       "      <th>c8[10]</th>\n",
       "      <th>0.04</th>\n",
       "      <td>12</td>\n",
       "    </tr>\n",
       "    <tr>\n",
       "      <th>c9[10]</th>\n",
       "      <th>0.04</th>\n",
       "      <td>12</td>\n",
       "    </tr>\n",
       "  </tbody>\n",
       "</table>\n",
       "</div>"
      ],
      "text/plain": [
       "                         counts\n",
       "Liquid Name Volume [uL]        \n",
       "c10[10]     0.04             12\n",
       "c11[10]     0.04             12\n",
       "c12[10]     0.04             12\n",
       "c13[10]     0.04             12\n",
       "c14[10]     0.04             12\n",
       "c15[10]     0.04             12\n",
       "c16[10]     0.04             12\n",
       "c17[10]     0.04             12\n",
       "c18[10]     0.04             12\n",
       "c19[10]     0.04             12\n",
       "c1[10]      0.04             12\n",
       "c20[10]     0.04             12\n",
       "c21[10]     0.04             12\n",
       "c22[10]     0.04             12\n",
       "c23[10]     0.04             12\n",
       "c24[10]     0.04             12\n",
       "c25[10]     0.04             12\n",
       "c26[10]     0.04             12\n",
       "c27[10]     0.04             12\n",
       "c28[10]     0.04             12\n",
       "c29[10]     0.04             12\n",
       "c2[10]      0.04             12\n",
       "c30[10]     0.04             12\n",
       "c31[10]     0.04             12\n",
       "c32[10]     0.04             12\n",
       "c33[10]     0.04             12\n",
       "c34[10]     0.04             12\n",
       "c35[10]     0.04             12\n",
       "c36[10]     0.04             12\n",
       "c37[10]     0.04             12\n",
       "c38[10]     0.04             12\n",
       "c39[10]     0.04             12\n",
       "c3[10]      0.04             12\n",
       "c40[10]     0.04             12\n",
       "c41[10]     0.04             12\n",
       "c42[10]     0.04             12\n",
       "c43[10]     0.04             12\n",
       "c44[10]     0.04             12\n",
       "c45[10]     0.04             12\n",
       "c46[10]     0.04             12\n",
       "c47[10]     0.04             12\n",
       "c48[10]     0.04             12\n",
       "c4[10]      0.04             12\n",
       "c53[10]     0.04             12\n",
       "c54[10]     0.04             12\n",
       "c5[10]      0.04             12\n",
       "c6[10]      0.04             12\n",
       "c7[10]      0.04             12\n",
       "c8[10]      0.04             12\n",
       "c9[10]      0.04             12"
      ]
     },
     "execution_count": 416,
     "metadata": {},
     "output_type": "execute_result"
    }
   ],
   "source": [
    "replicates = df2.groupby([\"Liquid Name\",\"Volume [uL]\"]).size().to_frame('counts')\n",
    "replicates"
   ]
  },
  {
   "cell_type": "code",
   "execution_count": 417,
   "metadata": {
    "colab": {
     "base_uri": "https://localhost:8080/",
     "height": 17
    },
    "executionInfo": {
     "elapsed": 252,
     "status": "ok",
     "timestamp": 1678142042589,
     "user": {
      "displayName": "Jonne Rietdijk",
      "userId": "14743434130742158701"
     },
     "user_tz": -60
    },
    "id": "QxjkqNAtY8IL",
    "outputId": "94d3642a-c3ef-4269-e74f-3b7a58df6489"
   },
   "outputs": [],
   "source": [
    "#@title Save a sumary of all pipetting steps\n",
    "\n",
    "df2.to_csv(\"output/IDOT_summary{}.csv\".format(protocol_name), index=False,encoding = 'utf-8-sig') \n",
    "#files.download(\"final_steps{}.csv\".format(protocol_name))"
   ]
  }
 ],
 "metadata": {
  "colab": {
   "authorship_tag": "ABX9TyOD1tQySMFz9d1OHcQb5r/L",
   "provenance": []
  },
  "kernelspec": {
   "display_name": "Python 3 (ipykernel)",
   "language": "python",
   "name": "python3"
  },
  "language_info": {
   "codemirror_mode": {
    "name": "ipython",
    "version": 3
   },
   "file_extension": ".py",
   "mimetype": "text/x-python",
   "name": "python",
   "nbconvert_exporter": "python",
   "pygments_lexer": "ipython3",
   "version": "3.8.10"
  }
 },
 "nbformat": 4,
 "nbformat_minor": 4
}
